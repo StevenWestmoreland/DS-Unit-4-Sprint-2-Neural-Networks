{
  "nbformat": 4,
  "nbformat_minor": 0,
  "metadata": {
    "colab": {
      "name": "DS17_U4S2M1_TensorFlowAssignment_StevenWestmoreland",
      "provenance": [],
      "collapsed_sections": [],
      "toc_visible": true,
      "include_colab_link": true
    },
    "kernelspec": {
      "name": "python3",
      "display_name": "Python 3"
    },
    "accelerator": "GPU"
  },
  "cells": [
    {
      "cell_type": "markdown",
      "metadata": {
        "id": "view-in-github",
        "colab_type": "text"
      },
      "source": [
        "<a href=\"https://colab.research.google.com/github/StevenWestmoreland/DS-Unit-4-Sprint-2-Neural-Networks/blob/main/DS17_U4S2M1_TensorFlowAssignment_StevenWestmoreland.ipynb\" target=\"_parent\"><img src=\"https://colab.research.google.com/assets/colab-badge.svg\" alt=\"Open In Colab\"/></a>"
      ]
    },
    {
      "cell_type": "markdown",
      "metadata": {
        "id": "ObyHCH8HvHSf",
        "colab_type": "text"
      },
      "source": [
        "<img align=\"left\" src=\"https://lever-client-logos.s3.amazonaws.com/864372b1-534c-480e-acd5-9711f850815c-1524247202159.png\" width=200>\n",
        "<br></br>\n",
        "<br></br>\n",
        "\n",
        "# *Data Science Unit 4 Sprint 2 Assignment 1*\n",
        "\n",
        "Use TensorFlow Keras & a sample of the [Quickdraw dataset](https://github.com/googlecreativelab/quickdraw-dataset) to build a sketch classification model. The dataset has been sampled to only 10 classes and 10000 observations per class. Please build a baseline classification model then run a few experiments with different optimizers and learning rates. \n",
        "\n",
        "*Don't forgot to switch to GPU on Colab!*"
      ]
    },
    {
      "cell_type": "markdown",
      "metadata": {
        "id": "s-Tc3ovEyQ9b",
        "colab_type": "text"
      },
      "source": [
        "## Load Your Data"
      ]
    },
    {
      "cell_type": "code",
      "metadata": {
        "id": "CkU0pAYCvU8o",
        "colab_type": "code",
        "colab": {
          "base_uri": "https://localhost:8080/",
          "height": 54
        },
        "outputId": "1f3d7347-23ee-4084-edd4-71d174a66765"
      },
      "source": [
        "import numpy as np\n",
        "import tensorflow as tf \n",
        "\n",
        "data = np.load('quickdraw10.npz')\n",
        "X = data['arr_0']\n",
        "y = data['arr_1']\n",
        "\n",
        "print(X.shape)\n",
        "print(y.shape)"
      ],
      "execution_count": 4,
      "outputs": [
        {
          "output_type": "stream",
          "text": [
            "(100000, 784)\n",
            "(100000,)\n"
          ],
          "name": "stdout"
        }
      ]
    },
    {
      "cell_type": "code",
      "metadata": {
        "id": "c8qsDqdqvHDd",
        "colab_type": "code",
        "colab": {}
      },
      "source": [
        "class_names = ['apple',\n",
        " 'anvil',\n",
        " 'airplane',\n",
        " 'banana',\n",
        " 'The Eiffel Tower',\n",
        " 'The Mona Lisa',\n",
        " 'The Great Wall of China',\n",
        " 'alarm clock',\n",
        " 'ant',\n",
        " 'asparagus']"
      ],
      "execution_count": 5,
      "outputs": []
    },
    {
      "cell_type": "code",
      "metadata": {
        "id": "Owbm1EbxvA5A",
        "colab_type": "code",
        "colab": {
          "base_uri": "https://localhost:8080/",
          "height": 416
        },
        "outputId": "2ca61acf-263c-49f1-faf0-415cb30d59ae"
      },
      "source": [
        "import matplotlib.pyplot as plt\n",
        "plt.figure(figsize=(10,5))\n",
        "start = 0\n",
        "\n",
        "for num, name in enumerate(class_names):\n",
        "    plt.subplot(2,5, num+1)\n",
        "    plt.xticks([])\n",
        "    plt.yticks([])\n",
        "    plt.grid(False)\n",
        "    plt.imshow(X[start].reshape(28,28), cmap=plt.cm.binary)\n",
        "    plt.xlabel(name)\n",
        "    start += 10000\n",
        "plt.show()"
      ],
      "execution_count": 6,
      "outputs": [
        {
          "output_type": "stream",
          "text": [
            "Exception ignored in: <bound method NpzFile.__del__ of <numpy.lib.npyio.NpzFile object at 0x7f87f887e860>>\n",
            "Traceback (most recent call last):\n",
            "  File \"/usr/local/lib/python3.6/dist-packages/numpy/lib/npyio.py\", line 230, in __del__\n",
            "    self.close()\n",
            "  File \"/usr/local/lib/python3.6/dist-packages/numpy/lib/npyio.py\", line 221, in close\n",
            "    if self.zip is not None:\n",
            "AttributeError: 'NpzFile' object has no attribute 'zip'\n"
          ],
          "name": "stderr"
        },
        {
          "output_type": "display_data",
          "data": {
            "image/png": "[encoded data removed]",
            "text/plain": [
              "<Figure size 720x360 with 10 Axes>"
            ]
          },
          "metadata": {
            "tags": []
          }
        }
      ]
    },
    {
      "cell_type": "code",
      "metadata": {
        "id": "c97_M1WNvTNY",
        "colab_type": "code",
        "colab": {}
      },
      "source": [
        "# Need this line to randomly shuffle both the X & y at the same time.\n",
        "\n",
        "from sklearn.utils import shuffle\n",
        "X, y = shuffle(X, y)"
      ],
      "execution_count": 7,
      "outputs": []
    },
    {
      "cell_type": "markdown",
      "metadata": {
        "id": "jb70CbLVyK65",
        "colab_type": "text"
      },
      "source": [
        "## Build Your Baseline Model\n",
        "Some Hints:\n",
        "\n",
        "\n",
        "*  Model should have 784 input values (like mnist)\n",
        "*  Use `sparse_categorical_crossentropy` as your loss function.\n",
        "* You need 10 neurons in your last layer for output\n",
        "* You can add as many hidden layers with as many neurons in them as you like. \n",
        "* Limit your model epochs to 30 each time you fit.\n",
        "* You can use the `validation_split` command to automatically create a training / validation dataset.  Specify a percentage such as .2 in your fit statement. \n",
        "\n"
      ]
    },
    {
      "cell_type": "code",
      "metadata": {
        "id": "zHWblzsMyNkU",
        "colab_type": "code",
        "colab": {}
      },
      "source": [
        "import tensorflow as tf\n",
        "from tensorflow.keras.optimizers import SGD\n",
        "from tensorflow.keras import Sequential\n",
        "from tensorflow.keras.layers import Dense\n",
        "\n",
        "def create_model(lr=.01):\n",
        "  opt = SGD(learning_rate=lr)\n",
        "\n",
        "  model = Sequential(\n",
        "      [\n",
        "       Dense(32, activation='sigmoid', input_dim=784),\n",
        "       Dense(32, activation='sigmoid'),\n",
        "       Dense(10, activation='softmax')       \n",
        "      ]\n",
        ")\n",
        "  model.compile(optimizer=opt, loss='sparse_categorical_crossentropy',\n",
        "                metrics=['accuracy'])\n",
        "  return model"
      ],
      "execution_count": 15,
      "outputs": []
    },
    {
      "cell_type": "code",
      "metadata": {
        "id": "iwXlQ7P11vFh",
        "colab_type": "code",
        "colab": {}
      },
      "source": [
        "from sklearn.model_selection import train_test_split\n",
        "\n",
        "X_train, X_test, y_train, y_test = train_test_split(X, y, train_size = 0.90,\n",
        "                                                    test_size = 0.10,\n",
        "                                                    random_state=42)"
      ],
      "execution_count": 16,
      "outputs": []
    },
    {
      "cell_type": "code",
      "metadata": {
        "id": "rZ9gZY4013rx",
        "colab_type": "code",
        "colab": {
          "base_uri": "https://localhost:8080/",
          "height": 1000
        },
        "outputId": "9a59a805-f45c-4161-b816-56377acd2bf7"
      },
      "source": [
        "quickdraw_model = create_model()\n",
        "baseline = quickdraw_model.fit(X_train, y_train, epochs=30,\n",
        "                                         batch_size=32,\n",
        "                                         validation_data=(X_test, y_test))"
      ],
      "execution_count": 19,
      "outputs": [
        {
          "output_type": "stream",
          "text": [
            "Epoch 1/30\n",
            "2813/2813 [==============================] - 6s 2ms/step - loss: 1.8400 - accuracy: 0.4843 - val_loss: 1.4420 - val_accuracy: 0.6168\n",
            "Epoch 2/30\n",
            "2813/2813 [==============================] - 6s 2ms/step - loss: 1.2732 - accuracy: 0.6465 - val_loss: 1.1449 - val_accuracy: 0.6662\n",
            "Epoch 3/30\n",
            "2813/2813 [==============================] - 6s 2ms/step - loss: 1.0960 - accuracy: 0.6824 - val_loss: 1.0411 - val_accuracy: 0.6945\n",
            "Epoch 4/30\n",
            "2813/2813 [==============================] - 6s 2ms/step - loss: 1.0173 - accuracy: 0.6972 - val_loss: 1.0107 - val_accuracy: 0.6948\n",
            "Epoch 5/30\n",
            "2813/2813 [==============================] - 6s 2ms/step - loss: 0.9668 - accuracy: 0.7095 - val_loss: 0.9470 - val_accuracy: 0.7160\n",
            "Epoch 6/30\n",
            "2813/2813 [==============================] - 6s 2ms/step - loss: 0.9399 - accuracy: 0.7158 - val_loss: 0.9474 - val_accuracy: 0.7017\n",
            "Epoch 7/30\n",
            "2813/2813 [==============================] - 6s 2ms/step - loss: 0.9219 - accuracy: 0.7179 - val_loss: 0.9248 - val_accuracy: 0.7128\n",
            "Epoch 8/30\n",
            "2813/2813 [==============================] - 6s 2ms/step - loss: 0.9001 - accuracy: 0.7245 - val_loss: 0.8751 - val_accuracy: 0.7342\n",
            "Epoch 9/30\n",
            "2813/2813 [==============================] - 6s 2ms/step - loss: 0.8822 - accuracy: 0.7299 - val_loss: 0.8842 - val_accuracy: 0.7304\n",
            "Epoch 10/30\n",
            "2813/2813 [==============================] - 6s 2ms/step - loss: 0.8605 - accuracy: 0.7326 - val_loss: 0.8717 - val_accuracy: 0.7217\n",
            "Epoch 11/30\n",
            "2813/2813 [==============================] - 6s 2ms/step - loss: 0.8656 - accuracy: 0.7318 - val_loss: 0.8517 - val_accuracy: 0.7379\n",
            "Epoch 12/30\n",
            "2813/2813 [==============================] - 6s 2ms/step - loss: 0.8517 - accuracy: 0.7366 - val_loss: 0.8731 - val_accuracy: 0.7248\n",
            "Epoch 13/30\n",
            "2813/2813 [==============================] - 6s 2ms/step - loss: 0.8506 - accuracy: 0.7382 - val_loss: 0.8584 - val_accuracy: 0.7356\n",
            "Epoch 14/30\n",
            "2813/2813 [==============================] - 7s 2ms/step - loss: 0.8566 - accuracy: 0.7322 - val_loss: 0.8790 - val_accuracy: 0.7181\n",
            "Epoch 15/30\n",
            "2813/2813 [==============================] - 7s 3ms/step - loss: 0.8379 - accuracy: 0.7402 - val_loss: 0.8429 - val_accuracy: 0.7384\n",
            "Epoch 16/30\n",
            "2813/2813 [==============================] - 6s 2ms/step - loss: 0.8227 - accuracy: 0.7459 - val_loss: 0.8148 - val_accuracy: 0.7471\n",
            "Epoch 17/30\n",
            "2813/2813 [==============================] - 6s 2ms/step - loss: 0.8188 - accuracy: 0.7442 - val_loss: 0.8238 - val_accuracy: 0.7436\n",
            "Epoch 18/30\n",
            "2813/2813 [==============================] - 6s 2ms/step - loss: 0.8111 - accuracy: 0.7485 - val_loss: 0.8381 - val_accuracy: 0.7380\n",
            "Epoch 19/30\n",
            "2813/2813 [==============================] - 6s 2ms/step - loss: 0.8079 - accuracy: 0.7485 - val_loss: 0.8044 - val_accuracy: 0.7485\n",
            "Epoch 20/30\n",
            "2813/2813 [==============================] - 6s 2ms/step - loss: 0.7974 - accuracy: 0.7520 - val_loss: 0.8096 - val_accuracy: 0.7451\n",
            "Epoch 21/30\n",
            "2813/2813 [==============================] - 7s 2ms/step - loss: 0.8065 - accuracy: 0.7490 - val_loss: 0.8091 - val_accuracy: 0.7519\n",
            "Epoch 22/30\n",
            "2813/2813 [==============================] - 6s 2ms/step - loss: 0.8047 - accuracy: 0.7504 - val_loss: 0.8058 - val_accuracy: 0.7498\n",
            "Epoch 23/30\n",
            "2813/2813 [==============================] - 6s 2ms/step - loss: 0.7995 - accuracy: 0.7535 - val_loss: 0.8224 - val_accuracy: 0.7486\n",
            "Epoch 24/30\n",
            "2813/2813 [==============================] - 6s 2ms/step - loss: 0.8119 - accuracy: 0.7519 - val_loss: 0.8047 - val_accuracy: 0.7476\n",
            "Epoch 25/30\n",
            "2813/2813 [==============================] - 6s 2ms/step - loss: 0.7984 - accuracy: 0.7532 - val_loss: 0.8005 - val_accuracy: 0.7582\n",
            "Epoch 26/30\n",
            "2813/2813 [==============================] - 6s 2ms/step - loss: 0.7953 - accuracy: 0.7559 - val_loss: 0.7780 - val_accuracy: 0.7590\n",
            "Epoch 27/30\n",
            "2813/2813 [==============================] - 6s 2ms/step - loss: 0.7869 - accuracy: 0.7563 - val_loss: 0.8021 - val_accuracy: 0.7489\n",
            "Epoch 28/30\n",
            "2813/2813 [==============================] - 6s 2ms/step - loss: 0.7973 - accuracy: 0.7536 - val_loss: 0.8035 - val_accuracy: 0.7574\n",
            "Epoch 29/30\n",
            "2813/2813 [==============================] - 6s 2ms/step - loss: 0.7994 - accuracy: 0.7506 - val_loss: 0.7868 - val_accuracy: 0.7549\n",
            "Epoch 30/30\n",
            "2813/2813 [==============================] - 6s 2ms/step - loss: 0.7818 - accuracy: 0.7565 - val_loss: 0.7927 - val_accuracy: 0.7557\n"
          ],
          "name": "stdout"
        }
      ]
    },
    {
      "cell_type": "markdown",
      "metadata": {
        "id": "b0QJURWh-9uv",
        "colab_type": "text"
      },
      "source": [
        "### Visualize the results\n",
        "\n",
        "Create charts for both loss and accuracy by epoch. Use line graphs for both charts. Analyze the results. \n",
        "\n",
        "At what point should we have stopped training the model and why? "
      ]
    },
    {
      "cell_type": "code",
      "metadata": {
        "id": "KONJtU5wqlXf",
        "colab_type": "code",
        "colab": {
          "base_uri": "https://localhost:8080/",
          "height": 1000
        },
        "outputId": "9605e7f1-d0d4-4e30-fe06-7757a0c77e6f"
      },
      "source": [
        "baseline.history"
      ],
      "execution_count": 20,
      "outputs": [
        {
          "output_type": "execute_result",
          "data": {
            "text/plain": [
              "{'accuracy': [0.484333336353302,\n",
              "  0.6464999914169312,\n",
              "  0.682366669178009,\n",
              "  0.6972222328186035,\n",
              "  0.7095000147819519,\n",
              "  0.7157666683197021,\n",
              "  0.7178888916969299,\n",
              "  0.7245333194732666,\n",
              "  0.729877769947052,\n",
              "  0.7326222062110901,\n",
              "  0.731844425201416,\n",
              "  0.7365555763244629,\n",
              "  0.7381888628005981,\n",
              "  0.7322221994400024,\n",
              "  0.7402111291885376,\n",
              "  0.7458778023719788,\n",
              "  0.7442444562911987,\n",
              "  0.7484555840492249,\n",
              "  0.7485111355781555,\n",
              "  0.7520333528518677,\n",
              "  0.7490444183349609,\n",
              "  0.7503666877746582,\n",
              "  0.7535333037376404,\n",
              "  0.7519000172615051,\n",
              "  0.7532444596290588,\n",
              "  0.7559000253677368,\n",
              "  0.7563222050666809,\n",
              "  0.7535555362701416,\n",
              "  0.7506444454193115,\n",
              "  0.7565110921859741],\n",
              " 'loss': [1.8400154113769531,\n",
              "  1.2732447385787964,\n",
              "  1.0959843397140503,\n",
              "  1.0172538757324219,\n",
              "  0.9668276309967041,\n",
              "  0.9398611187934875,\n",
              "  0.9219410419464111,\n",
              "  0.9001471400260925,\n",
              "  0.8821855783462524,\n",
              "  0.8605138659477234,\n",
              "  0.8656034469604492,\n",
              "  0.8516981601715088,\n",
              "  0.8505805730819702,\n",
              "  0.8565877676010132,\n",
              "  0.8379480838775635,\n",
              "  0.822736382484436,\n",
              "  0.8188258409500122,\n",
              "  0.8111133575439453,\n",
              "  0.8078826665878296,\n",
              "  0.7974112033843994,\n",
              "  0.8064782023429871,\n",
              "  0.8047314286231995,\n",
              "  0.7994818687438965,\n",
              "  0.8118553161621094,\n",
              "  0.7983616590499878,\n",
              "  0.795339047908783,\n",
              "  0.7868879437446594,\n",
              "  0.7972552180290222,\n",
              "  0.7994445562362671,\n",
              "  0.7818343639373779],\n",
              " 'val_accuracy': [0.6168000102043152,\n",
              "  0.6661999821662903,\n",
              "  0.6945000290870667,\n",
              "  0.6948000192642212,\n",
              "  0.7160000205039978,\n",
              "  0.70169997215271,\n",
              "  0.7128000259399414,\n",
              "  0.7342000007629395,\n",
              "  0.730400025844574,\n",
              "  0.7217000126838684,\n",
              "  0.7379000186920166,\n",
              "  0.7247999906539917,\n",
              "  0.7355999946594238,\n",
              "  0.7181000113487244,\n",
              "  0.7383999824523926,\n",
              "  0.7470999956130981,\n",
              "  0.7436000108718872,\n",
              "  0.7379999756813049,\n",
              "  0.7484999895095825,\n",
              "  0.7451000213623047,\n",
              "  0.7519000172615051,\n",
              "  0.7498000264167786,\n",
              "  0.7486000061035156,\n",
              "  0.7476000189781189,\n",
              "  0.7581999897956848,\n",
              "  0.7590000033378601,\n",
              "  0.7488999962806702,\n",
              "  0.7573999762535095,\n",
              "  0.7548999786376953,\n",
              "  0.7556999921798706],\n",
              " 'val_loss': [1.4420104026794434,\n",
              "  1.1448612213134766,\n",
              "  1.0410610437393188,\n",
              "  1.01066255569458,\n",
              "  0.9469979405403137,\n",
              "  0.9474118947982788,\n",
              "  0.9247592687606812,\n",
              "  0.8750752806663513,\n",
              "  0.884209156036377,\n",
              "  0.8716831803321838,\n",
              "  0.8517257571220398,\n",
              "  0.8730851411819458,\n",
              "  0.858386218547821,\n",
              "  0.8789722919464111,\n",
              "  0.8428989052772522,\n",
              "  0.8147924542427063,\n",
              "  0.823774516582489,\n",
              "  0.8380535244941711,\n",
              "  0.8043656349182129,\n",
              "  0.8095966577529907,\n",
              "  0.809088945388794,\n",
              "  0.8058123588562012,\n",
              "  0.8223701119422913,\n",
              "  0.8046512007713318,\n",
              "  0.8005116581916809,\n",
              "  0.7780402302742004,\n",
              "  0.8020660281181335,\n",
              "  0.8035060167312622,\n",
              "  0.7868136167526245,\n",
              "  0.7926629185676575]}"
            ]
          },
          "metadata": {
            "tags": []
          },
          "execution_count": 20
        }
      ]
    },
    {
      "cell_type": "code",
      "metadata": {
        "id": "ijAlzfYKAFaY",
        "colab_type": "code",
        "colab": {
          "base_uri": "https://localhost:8080/",
          "height": 279
        },
        "outputId": "6b2a7056-d5c2-46e2-9b07-f3e622b9b836"
      },
      "source": [
        "import seaborn as sns\n",
        "import pandas as pd\n",
        "\n",
        "df = pd.DataFrame.from_records(baseline.history)\n",
        "df['epoch'] = [i for i in range(df.shape[0])]\n",
        "\n",
        "ax = sns.lineplot(x='epoch', y='val_loss', data=df, label='val_loss')\n",
        "ax = sns.lineplot(x='epoch', y='loss', data=df, label='loss');"
      ],
      "execution_count": 33,
      "outputs": [
        {
          "output_type": "display_data",
          "data": {
            "image/png": "[encoded data removed]",
            "text/plain": [
              "<Figure size 432x288 with 1 Axes>"
            ]
          },
          "metadata": {
            "tags": [],
            "needs_background": "light"
          }
        }
      ]
    },
    {
      "cell_type": "code",
      "metadata": {
        "id": "eK18dvZXCNJR",
        "colab_type": "code",
        "colab": {
          "base_uri": "https://localhost:8080/",
          "height": 279
        },
        "outputId": "7f429db9-a9c4-42a4-a6f5-46634379906d"
      },
      "source": [
        "ax = sns.lineplot(x='epoch', y='val_accuracy', data=df, label='val_accuracy')\n",
        "ax = sns.lineplot(x='epoch', y='accuracy', data=df, label='accuracy');"
      ],
      "execution_count": 34,
      "outputs": [
        {
          "output_type": "display_data",
          "data": {
            "image/png": "[encoded data removed]",
            "text/plain": [
              "<Figure size 432x288 with 1 Axes>"
            ]
          },
          "metadata": {
            "tags": [],
            "needs_background": "light"
          }
        }
      ]
    },
    {
      "cell_type": "markdown",
      "metadata": {
        "id": "9-1fSkHTHYp1",
        "colab_type": "text"
      },
      "source": [
        "We probably could have stopped training somewhere around the 20-25 epoch mark. At this point, both validation and training accuracy (as well as both losses) more or less converge. Furthermore, there isn't much gained going father than that point for any of the four. "
      ]
    },
    {
      "cell_type": "markdown",
      "metadata": {
        "id": "MAhBrcE4yOZe",
        "colab_type": "text"
      },
      "source": [
        "## Change Optimizers\n",
        "Try using the keras `adam` optimizer instead of `sgd` in your model. Visualize the difference in validation loss between the models with different optimizers. "
      ]
    },
    {
      "cell_type": "code",
      "metadata": {
        "id": "jIW_spOZ0cxy",
        "colab_type": "code",
        "colab": {}
      },
      "source": [
        "from tensorflow.keras.optimizers import Adam\n",
        "\n",
        "def create_adam_model(lr=.01):\n",
        "  opt = Adam(learning_rate=lr)\n",
        "\n",
        "  model = Sequential(\n",
        "      [\n",
        "       Dense(32, activation='sigmoid', input_dim=784),\n",
        "       Dense(32, activation='sigmoid'),\n",
        "       Dense(10, activation='softmax')       \n",
        "      ]\n",
        ")\n",
        "  model.compile(optimizer=opt, loss='sparse_categorical_crossentropy',\n",
        "                metrics=['accuracy'])\n",
        "  return model"
      ],
      "execution_count": 36,
      "outputs": []
    },
    {
      "cell_type": "code",
      "metadata": {
        "id": "qAA1WcBvGGCE",
        "colab_type": "code",
        "colab": {
          "base_uri": "https://localhost:8080/",
          "height": 1000
        },
        "outputId": "6f6d1ff7-857b-4a0f-fdc2-8838ac177be1"
      },
      "source": [
        "quickdraw_model_adam = create_adam_model()\n",
        "baseline_adam = quickdraw_model_adam.fit(X_train, y_train, epochs=30,\n",
        "                                         batch_size=32,\n",
        "                                         validation_data=(X_test, y_test))"
      ],
      "execution_count": 37,
      "outputs": [
        {
          "output_type": "stream",
          "text": [
            "Epoch 1/30\n",
            "2813/2813 [==============================] - 7s 2ms/step - loss: 1.5739 - accuracy: 0.4301 - val_loss: 1.4715 - val_accuracy: 0.4766\n",
            "Epoch 2/30\n",
            "2813/2813 [==============================] - 6s 2ms/step - loss: 1.4016 - accuracy: 0.5040 - val_loss: 1.3079 - val_accuracy: 0.5275\n",
            "Epoch 3/30\n",
            "2813/2813 [==============================] - 6s 2ms/step - loss: 1.3268 - accuracy: 0.5329 - val_loss: 1.3017 - val_accuracy: 0.5495\n",
            "Epoch 4/30\n",
            "2813/2813 [==============================] - 6s 2ms/step - loss: 1.2830 - accuracy: 0.5537 - val_loss: 1.2597 - val_accuracy: 0.5718\n",
            "Epoch 5/30\n",
            "2813/2813 [==============================] - 6s 2ms/step - loss: 1.3151 - accuracy: 0.5402 - val_loss: 1.2759 - val_accuracy: 0.5459\n",
            "Epoch 6/30\n",
            "2813/2813 [==============================] - 6s 2ms/step - loss: 1.2604 - accuracy: 0.5689 - val_loss: 1.2602 - val_accuracy: 0.5736\n",
            "Epoch 7/30\n",
            "2813/2813 [==============================] - 7s 2ms/step - loss: 1.2321 - accuracy: 0.5829 - val_loss: 1.2556 - val_accuracy: 0.5792\n",
            "Epoch 8/30\n",
            "2813/2813 [==============================] - 6s 2ms/step - loss: 1.2550 - accuracy: 0.5786 - val_loss: 1.2424 - val_accuracy: 0.5790\n",
            "Epoch 9/30\n",
            "2813/2813 [==============================] - 7s 2ms/step - loss: 1.2526 - accuracy: 0.5707 - val_loss: 1.2752 - val_accuracy: 0.5644\n",
            "Epoch 10/30\n",
            "2813/2813 [==============================] - 7s 2ms/step - loss: 1.2235 - accuracy: 0.5898 - val_loss: 1.2017 - val_accuracy: 0.5921\n",
            "Epoch 11/30\n",
            "2813/2813 [==============================] - 6s 2ms/step - loss: 1.2046 - accuracy: 0.5923 - val_loss: 1.2187 - val_accuracy: 0.5934\n",
            "Epoch 12/30\n",
            "2813/2813 [==============================] - 7s 2ms/step - loss: 1.2091 - accuracy: 0.5987 - val_loss: 1.2150 - val_accuracy: 0.5918\n",
            "Epoch 13/30\n",
            "2813/2813 [==============================] - 6s 2ms/step - loss: 1.1636 - accuracy: 0.6081 - val_loss: 1.1391 - val_accuracy: 0.6171\n",
            "Epoch 14/30\n",
            "2813/2813 [==============================] - 6s 2ms/step - loss: 1.1328 - accuracy: 0.6183 - val_loss: 1.1139 - val_accuracy: 0.6171\n",
            "Epoch 15/30\n",
            "2813/2813 [==============================] - 6s 2ms/step - loss: 1.0962 - accuracy: 0.6340 - val_loss: 1.1130 - val_accuracy: 0.6310\n",
            "Epoch 16/30\n",
            "2813/2813 [==============================] - 6s 2ms/step - loss: 1.0897 - accuracy: 0.6437 - val_loss: 1.0823 - val_accuracy: 0.6536\n",
            "Epoch 17/30\n",
            "2813/2813 [==============================] - 6s 2ms/step - loss: 1.0717 - accuracy: 0.6490 - val_loss: 1.0673 - val_accuracy: 0.6509\n",
            "Epoch 18/30\n",
            "2813/2813 [==============================] - 6s 2ms/step - loss: 1.0757 - accuracy: 0.6473 - val_loss: 1.0990 - val_accuracy: 0.6437\n",
            "Epoch 19/30\n",
            "2813/2813 [==============================] - 7s 2ms/step - loss: 1.0713 - accuracy: 0.6476 - val_loss: 1.0631 - val_accuracy: 0.6495\n",
            "Epoch 20/30\n",
            "2813/2813 [==============================] - 6s 2ms/step - loss: 1.0984 - accuracy: 0.6385 - val_loss: 1.1011 - val_accuracy: 0.6329\n",
            "Epoch 21/30\n",
            "2813/2813 [==============================] - 6s 2ms/step - loss: 1.0901 - accuracy: 0.6435 - val_loss: 1.0901 - val_accuracy: 0.6476\n",
            "Epoch 22/30\n",
            "2813/2813 [==============================] - 6s 2ms/step - loss: 1.0954 - accuracy: 0.6355 - val_loss: 1.0947 - val_accuracy: 0.6364\n",
            "Epoch 23/30\n",
            "2813/2813 [==============================] - 6s 2ms/step - loss: 1.0806 - accuracy: 0.6443 - val_loss: 1.0459 - val_accuracy: 0.6617\n",
            "Epoch 24/30\n",
            "2813/2813 [==============================] - 7s 2ms/step - loss: 1.0494 - accuracy: 0.6534 - val_loss: 1.0465 - val_accuracy: 0.6514\n",
            "Epoch 25/30\n",
            "2813/2813 [==============================] - 6s 2ms/step - loss: 1.0173 - accuracy: 0.6648 - val_loss: 1.0178 - val_accuracy: 0.6568\n",
            "Epoch 26/30\n",
            "2813/2813 [==============================] - 6s 2ms/step - loss: 1.0090 - accuracy: 0.6675 - val_loss: 1.0110 - val_accuracy: 0.6649\n",
            "Epoch 27/30\n",
            "2813/2813 [==============================] - 6s 2ms/step - loss: 1.0269 - accuracy: 0.6589 - val_loss: 1.0318 - val_accuracy: 0.6523\n",
            "Epoch 28/30\n",
            "2813/2813 [==============================] - 7s 2ms/step - loss: 1.0124 - accuracy: 0.6718 - val_loss: 0.9987 - val_accuracy: 0.6809\n",
            "Epoch 29/30\n",
            "2813/2813 [==============================] - 7s 3ms/step - loss: 1.0095 - accuracy: 0.6699 - val_loss: 1.0111 - val_accuracy: 0.6626\n",
            "Epoch 30/30\n",
            "2813/2813 [==============================] - 7s 2ms/step - loss: 1.0151 - accuracy: 0.6692 - val_loss: 1.0216 - val_accuracy: 0.6711\n"
          ],
          "name": "stdout"
        }
      ]
    },
    {
      "cell_type": "code",
      "metadata": {
        "id": "6v5yFgxrGVAi",
        "colab_type": "code",
        "colab": {
          "base_uri": "https://localhost:8080/",
          "height": 279
        },
        "outputId": "ba28352d-8cc1-432e-e4c0-563d6fee333f"
      },
      "source": [
        "df_adam = pd.DataFrame.from_records(baseline_adam.history)\n",
        "df_adam['epoch'] = [i for i in range(df_adam.shape[0])]\n",
        "\n",
        "ax = sns.lineplot(x='epoch', y='loss', data=df, label='SGD loss')\n",
        "ax = sns.lineplot(x='epoch', y='loss', data=df_adam, label='Adam loss');"
      ],
      "execution_count": 38,
      "outputs": [
        {
          "output_type": "display_data",
          "data": {
            "image/png": "[encoded data removed]",
            "text/plain": [
              "<Figure size 432x288 with 1 Axes>"
            ]
          },
          "metadata": {
            "tags": [],
            "needs_background": "light"
          }
        }
      ]
    },
    {
      "cell_type": "code",
      "metadata": {
        "id": "EPp23mIxHIzj",
        "colab_type": "code",
        "colab": {
          "base_uri": "https://localhost:8080/",
          "height": 279
        },
        "outputId": "7f38b9e7-21cd-44ba-ec51-c5cad0dd07d8"
      },
      "source": [
        "ax = sns.lineplot(x='epoch', y='accuracy', data=df, label='SGD accuracy')\n",
        "ax = sns.lineplot(x='epoch', y='accuracy', data=df_adam, label='Adam accuracy');"
      ],
      "execution_count": 39,
      "outputs": [
        {
          "output_type": "display_data",
          "data": {
            "image/png": "[encoded data removed]",
            "text/plain": [
              "<Figure size 432x288 with 1 Axes>"
            ]
          },
          "metadata": {
            "tags": [],
            "needs_background": "light"
          }
        }
      ]
    },
    {
      "cell_type": "markdown",
      "metadata": {
        "id": "EJrbh3qryi4w",
        "colab_type": "text"
      },
      "source": [
        "### Additional Written Tasks:\n",
        "In this section, you will need to search for resources: \n",
        "1. Investigate the various [loss functions](https://www.tensorflow.org/api_docs/python/tf/keras/losses). Which is best suited for the task at hand (predicting 1 / 0) and why? \n",
        "2. What is the difference between a loss function and a metric? Why might we need both in Keras? \n",
        "3. Investigate the various [optimizers](https://www.tensorflow.org/api_docs/python/tf/keras/optimizers). Stochastic Gradient Descent (`sgd`) is not the learning algorithm dejour anyone. Why is that? What do newer optimizers such as `adam` have to offer? "
      ]
    },
    {
      "cell_type": "markdown",
      "metadata": {
        "id": "Gzs4fd-RynDd",
        "colab_type": "text"
      },
      "source": [
        "## Stretch Goals: \n",
        "\n",
        "- Research convolutional neural networks and try including convolution layers in your network.\n",
        "- Pick two classes and make QuickDraw a binary classification problem, how does your model architecture change?\n",
        "- Implement Cross Validation model evaluation on your Quickdraw implementation \n",
        "\n",
        "Watch some more videos on Gradient Descent:\n",
        "- [Gradient Descent, Step-by-Step](https://www.youtube.com/watch?v=sDv4f4s2SB8)  by StatQuest w/ Josh Starmer. This will help you understand the gradient descent based optimization that happens underneath the hood of neural networks. It uses a non-neural network example, which I believe is a gentler introduction. You will hear me refer to this technique as \"vanilla\" gradient descent. \n",
        "- [Stochastic Gradient Descent, Clearly Explained!!!](https://www.youtube.com/watch?v=vMh0zPT0tLI) by StatQuest w/ Josh Starmer. This builds on the techniques in the previous video.  This technique is the one that is actually implemented inside modern 'nets. \n",
        "- [Siraj Raval the evolution of gradient descent](https://www.youtube.com/watch?v=nhqo0u1a6fw)"
      ]
    }
  ]
}