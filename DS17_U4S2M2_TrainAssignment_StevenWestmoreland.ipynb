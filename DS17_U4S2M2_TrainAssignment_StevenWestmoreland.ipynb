{
  "nbformat": 4,
  "nbformat_minor": 0,
  "metadata": {
    "colab": {
      "name": "DS17_U4S2M2_TrainAssignment_StevenWestmoreland.ipynb",
      "provenance": [],
      "collapsed_sections": [],
      "toc_visible": true,
      "include_colab_link": true
    },
    "kernelspec": {
      "display_name": "Python 3",
      "language": "python",
      "name": "python3"
    },
    "language_info": {
      "codemirror_mode": {
        "name": "ipython",
        "version": 3
      },
      "file_extension": ".py",
      "mimetype": "text/x-python",
      "name": "python",
      "nbconvert_exporter": "python",
      "pygments_lexer": "ipython3",
      "version": "3.7.3"
    },
    "nteract": {
      "version": "0.22.4"
    },
    "accelerator": "GPU"
  },
  "cells": [
    {
      "cell_type": "markdown",
      "metadata": {
        "id": "view-in-github",
        "colab_type": "text"
      },
      "source": [
        "<a href=\"https://colab.research.google.com/github/StevenWestmoreland/DS-Unit-4-Sprint-2-Neural-Networks/blob/main/DS17_U4S2M2_TrainAssignment_StevenWestmoreland.ipynb\" target=\"_parent\"><img src=\"https://colab.research.google.com/assets/colab-badge.svg\" alt=\"Open In Colab\"/></a>"
      ]
    },
    {
      "cell_type": "markdown",
      "metadata": {
        "colab_type": "text",
        "id": "NGGrt9EYlCqY"
      },
      "source": [
        "<img align=\"left\" src=\"https://lever-client-logos.s3.amazonaws.com/864372b1-534c-480e-acd5-9711f850815c-1524247202159.png\" width=200>\n",
        "<br></br>\n",
        "<br></br>\n",
        "\n",
        "# Train Practice\n",
        "\n",
        "## *Data Science Unit 4 Sprint 2 Assignment 2*\n",
        "\n",
        "Continue to use TensorFlow Keras & a sample of the [Quickdraw dataset](https://github.com/googlecreativelab/quickdraw-dataset) to build a sketch classification model. The dataset has been sampled to only 10 classes and 10000 observations per class. Please build a baseline classification model then run a few experiments with different optimizers and learning rates. \n",
        "\n",
        "*Don't forgot to switch to GPU on Colab!*"
      ]
    },
    {
      "cell_type": "markdown",
      "metadata": {
        "id": "ptJ2b3wk62Ud",
        "colab_type": "text"
      },
      "source": [
        "### Write a function to load your data\n",
        "\n",
        "Wrap yesterday's preprocessing steps into a function that returns four items:\n",
        "* X_train\n",
        "* y_train\n",
        "* X_test\n",
        "* y_test\n",
        "\n",
        "Your function should accept a `path` to the data as a argument."
      ]
    },
    {
      "cell_type": "code",
      "metadata": {
        "id": "GHlBvauVUW2S",
        "colab_type": "code",
        "colab": {
          "base_uri": "https://localhost:8080/",
          "height": 74
        },
        "outputId": "096d3f4a-765b-4d4b-f1b4-1c5f81e827e9"
      },
      "source": [
        "import numpy as np\n",
        "import pandas as pd\n",
        "import seaborn as sns\n",
        "import tensorflow as tf\n",
        "\n",
        "from sklearn.model_selection import train_test_split\n",
        "from tensorflow.keras import Sequential\n",
        "from tensorflow.keras.layers import Dense\n",
        "from tensorflow.keras.optimizers import SGD"
      ],
      "execution_count": 25,
      "outputs": [
        {
          "output_type": "stream",
          "text": [
            "/usr/local/lib/python3.6/dist-packages/statsmodels/tools/_testing.py:19: FutureWarning: pandas.util.testing is deprecated. Use the functions in the public API at pandas.testing instead.\n",
            "  import pandas.util.testing as tm\n"
          ],
          "name": "stderr"
        }
      ]
    },
    {
      "cell_type": "code",
      "metadata": {
        "id": "nJsIsrvp7O3e",
        "colab_type": "code",
        "colab": {}
      },
      "source": [
        "def load_quickdraw10(path):\n",
        "\n",
        "  arr = np.load(path)\n",
        "  X = arr['arr_0']\n",
        "  y = arr['arr_1']\n",
        "\n",
        "  X_train, X_test, y_train, y_test = train_test_split(X, y,\n",
        "                                                      train_size = 0.90,\n",
        "                                                      test_size = 0.10,\n",
        "                                                      random_state=42)\n",
        "\n",
        "  return X_train, y_train, X_test, y_test"
      ],
      "execution_count": 13,
      "outputs": []
    },
    {
      "cell_type": "code",
      "metadata": {
        "id": "Ou4PqqKEYhm3",
        "colab_type": "code",
        "colab": {}
      },
      "source": [
        "X_train, y_train, X_test, y_test = load_quickdraw10('quickdraw10.npz')"
      ],
      "execution_count": 14,
      "outputs": []
    },
    {
      "cell_type": "code",
      "metadata": {
        "id": "ClLGo7opYns9",
        "colab_type": "code",
        "colab": {
          "base_uri": "https://localhost:8080/",
          "height": 145
        },
        "outputId": "775c3922-e235-473c-c19e-218ddaea48db"
      },
      "source": [
        "X_train"
      ],
      "execution_count": 15,
      "outputs": [
        {
          "output_type": "execute_result",
          "data": {
            "text/plain": [
              "array([[0, 0, 0, ..., 0, 0, 0],\n",
              "       [0, 0, 0, ..., 0, 0, 0],\n",
              "       [0, 0, 0, ..., 0, 0, 0],\n",
              "       ...,\n",
              "       [0, 0, 0, ..., 0, 0, 0],\n",
              "       [0, 0, 0, ..., 0, 0, 0],\n",
              "       [0, 0, 0, ..., 0, 0, 0]], dtype=uint8)"
            ]
          },
          "metadata": {
            "tags": []
          },
          "execution_count": 15
        }
      ]
    },
    {
      "cell_type": "code",
      "metadata": {
        "id": "l9QAQkbGZLne",
        "colab_type": "code",
        "colab": {
          "base_uri": "https://localhost:8080/",
          "height": 35
        },
        "outputId": "5776b6f4-9d9b-4b0a-e3ec-2c2e4352b756"
      },
      "source": [
        "X_train.shape, y_train.shape"
      ],
      "execution_count": 16,
      "outputs": [
        {
          "output_type": "execute_result",
          "data": {
            "text/plain": [
              "((90000, 784), (90000,))"
            ]
          },
          "metadata": {
            "tags": []
          },
          "execution_count": 16
        }
      ]
    },
    {
      "cell_type": "markdown",
      "metadata": {
        "id": "l-6PxI6H5__2",
        "colab_type": "text"
      },
      "source": [
        "### Write a Model Function\n",
        "Using your model from yesterday, write a function called `create_model` which returns a compiled TensorFlow Keras Sequential Model suitable for classifying the QuickDraw-10 dataset. Include parameters for the following: \n",
        "* Learning Rate\n",
        "* Optimizer"
      ]
    },
    {
      "cell_type": "code",
      "metadata": {
        "colab_type": "code",
        "id": "nEREYT-3wI1f",
        "colab": {}
      },
      "source": [
        "def create_model(lr=.01):\n",
        "  opt = SGD(learning_rate=lr)\n",
        "\n",
        "  model = Sequential(\n",
        "      [\n",
        "       Dense(32, activation='sigmoid', input_dim=784),\n",
        "       Dense(32, activation='sigmoid'),\n",
        "       Dense(10, activation='softmax')       \n",
        "      ]\n",
        ")\n",
        "  model.compile(optimizer=opt, loss='sparse_categorical_crossentropy',\n",
        "                metrics=['accuracy'])\n",
        "  return model"
      ],
      "execution_count": 39,
      "outputs": []
    },
    {
      "cell_type": "code",
      "metadata": {
        "id": "I7qGQrbzilSz",
        "colab_type": "code",
        "colab": {}
      },
      "source": [
        "quickdraw_model = create_model()"
      ],
      "execution_count": 40,
      "outputs": []
    },
    {
      "cell_type": "code",
      "metadata": {
        "id": "NVUTdPUei5oa",
        "colab_type": "code",
        "colab": {
          "base_uri": "https://localhost:8080/",
          "height": 272
        },
        "outputId": "7228795c-41c8-4332-d56b-057850b34427"
      },
      "source": [
        "quickdraw_model.summary()"
      ],
      "execution_count": 41,
      "outputs": [
        {
          "output_type": "stream",
          "text": [
            "Model: \"sequential_11\"\n",
            "_________________________________________________________________\n",
            "Layer (type)                 Output Shape              Param #   \n",
            "=================================================================\n",
            "dense_33 (Dense)             (None, 32)                25120     \n",
            "_________________________________________________________________\n",
            "dense_34 (Dense)             (None, 32)                1056      \n",
            "_________________________________________________________________\n",
            "dense_35 (Dense)             (None, 10)                330       \n",
            "=================================================================\n",
            "Total params: 26,506\n",
            "Trainable params: 26,506\n",
            "Non-trainable params: 0\n",
            "_________________________________________________________________\n"
          ],
          "name": "stdout"
        }
      ]
    },
    {
      "cell_type": "markdown",
      "metadata": {
        "id": "f0pCkh8C7eGL",
        "colab_type": "text"
      },
      "source": [
        "### Experiment with Batch Size\n",
        "* Run 5 experiments with various batch sizes of your choice. \n",
        "* Visualize the results\n",
        "* Write up an analysis of the experiments and select the \"best\" performing model among your experiments. Make sure to compare against your model's performance yesterday. "
      ]
    },
    {
      "cell_type": "code",
      "metadata": {
        "id": "USXjs7Hk71Hy",
        "colab_type": "code",
        "colab": {
          "base_uri": "https://localhost:8080/",
          "height": 926
        },
        "outputId": "e72e8d9c-4bb7-4d5d-ca9d-77ea95bf57cb"
      },
      "source": [
        "quickdraw_model_32 = create_model()\n",
        "batch_32 = quickdraw_model_32.fit(X_train, y_train, epochs=25, batch_size=32,\n",
        "                                  validation_data=(X_test, y_test))"
      ],
      "execution_count": 42,
      "outputs": [
        {
          "output_type": "stream",
          "text": [
            "Epoch 1/25\n",
            "2813/2813 [==============================] - 6s 2ms/step - loss: 1.8474 - accuracy: 0.4736 - val_loss: 1.4779 - val_accuracy: 0.5677\n",
            "Epoch 2/25\n",
            "2813/2813 [==============================] - 5s 2ms/step - loss: 1.2924 - accuracy: 0.6224 - val_loss: 1.1720 - val_accuracy: 0.6515\n",
            "Epoch 3/25\n",
            "2813/2813 [==============================] - 5s 2ms/step - loss: 1.1055 - accuracy: 0.6681 - val_loss: 1.0585 - val_accuracy: 0.6686\n",
            "Epoch 4/25\n",
            "2813/2813 [==============================] - 5s 2ms/step - loss: 1.0252 - accuracy: 0.6852 - val_loss: 0.9887 - val_accuracy: 0.6931\n",
            "Epoch 5/25\n",
            "2813/2813 [==============================] - 5s 2ms/step - loss: 0.9861 - accuracy: 0.6942 - val_loss: 0.9650 - val_accuracy: 0.6968\n",
            "Epoch 6/25\n",
            "2813/2813 [==============================] - 5s 2ms/step - loss: 0.9506 - accuracy: 0.7093 - val_loss: 0.9250 - val_accuracy: 0.7206\n",
            "Epoch 7/25\n",
            "2813/2813 [==============================] - 5s 2ms/step - loss: 0.9222 - accuracy: 0.7175 - val_loss: 0.9228 - val_accuracy: 0.7213\n",
            "Epoch 8/25\n",
            "2813/2813 [==============================] - 5s 2ms/step - loss: 0.9017 - accuracy: 0.7220 - val_loss: 0.8872 - val_accuracy: 0.7306\n",
            "Epoch 9/25\n",
            "2813/2813 [==============================] - 5s 2ms/step - loss: 0.8876 - accuracy: 0.7255 - val_loss: 0.9140 - val_accuracy: 0.7140\n",
            "Epoch 10/25\n",
            "2813/2813 [==============================] - 5s 2ms/step - loss: 0.8837 - accuracy: 0.7279 - val_loss: 0.8853 - val_accuracy: 0.7282\n",
            "Epoch 11/25\n",
            "2813/2813 [==============================] - 5s 2ms/step - loss: 0.8663 - accuracy: 0.7329 - val_loss: 0.8690 - val_accuracy: 0.7307\n",
            "Epoch 12/25\n",
            "2813/2813 [==============================] - 6s 2ms/step - loss: 0.8623 - accuracy: 0.7322 - val_loss: 0.8602 - val_accuracy: 0.7285\n",
            "Epoch 13/25\n",
            "2813/2813 [==============================] - 5s 2ms/step - loss: 0.8429 - accuracy: 0.7403 - val_loss: 0.8534 - val_accuracy: 0.7361\n",
            "Epoch 14/25\n",
            "2813/2813 [==============================] - 5s 2ms/step - loss: 0.8485 - accuracy: 0.7391 - val_loss: 0.8313 - val_accuracy: 0.7452\n",
            "Epoch 15/25\n",
            "2813/2813 [==============================] - 5s 2ms/step - loss: 0.8379 - accuracy: 0.7397 - val_loss: 0.8402 - val_accuracy: 0.7399\n",
            "Epoch 16/25\n",
            "2813/2813 [==============================] - 5s 2ms/step - loss: 0.8362 - accuracy: 0.7393 - val_loss: 0.8197 - val_accuracy: 0.7475\n",
            "Epoch 17/25\n",
            "2813/2813 [==============================] - 5s 2ms/step - loss: 0.8179 - accuracy: 0.7451 - val_loss: 0.8249 - val_accuracy: 0.7470\n",
            "Epoch 18/25\n",
            "2813/2813 [==============================] - 5s 2ms/step - loss: 0.8308 - accuracy: 0.7396 - val_loss: 0.8229 - val_accuracy: 0.7467\n",
            "Epoch 19/25\n",
            "2813/2813 [==============================] - 5s 2ms/step - loss: 0.8157 - accuracy: 0.7475 - val_loss: 0.8168 - val_accuracy: 0.7526\n",
            "Epoch 20/25\n",
            "2813/2813 [==============================] - 5s 2ms/step - loss: 0.8066 - accuracy: 0.7489 - val_loss: 0.8225 - val_accuracy: 0.7468\n",
            "Epoch 21/25\n",
            "2813/2813 [==============================] - 5s 2ms/step - loss: 0.8104 - accuracy: 0.7490 - val_loss: 0.8142 - val_accuracy: 0.7519\n",
            "Epoch 22/25\n",
            "2813/2813 [==============================] - 5s 2ms/step - loss: 0.7999 - accuracy: 0.7527 - val_loss: 0.7912 - val_accuracy: 0.7597\n",
            "Epoch 23/25\n",
            "2813/2813 [==============================] - 5s 2ms/step - loss: 0.8102 - accuracy: 0.7488 - val_loss: 0.8218 - val_accuracy: 0.7459\n",
            "Epoch 24/25\n",
            "2813/2813 [==============================] - 6s 2ms/step - loss: 0.7980 - accuracy: 0.7531 - val_loss: 0.7963 - val_accuracy: 0.7494\n",
            "Epoch 25/25\n",
            "2813/2813 [==============================] - 6s 2ms/step - loss: 0.7911 - accuracy: 0.7548 - val_loss: 0.7932 - val_accuracy: 0.7537\n"
          ],
          "name": "stdout"
        }
      ]
    },
    {
      "cell_type": "code",
      "metadata": {
        "id": "DW-V6Ioijkux",
        "colab_type": "code",
        "colab": {
          "base_uri": "https://localhost:8080/",
          "height": 926
        },
        "outputId": "1bcf1b84-e03c-4557-9e4e-f3d09972e5f5"
      },
      "source": [
        "quickdraw_model_8 = create_model()\n",
        "batch_8 = quickdraw_model_8.fit(X_train, y_train, epochs=25, batch_size=8,\n",
        "                                  validation_data=(X_test, y_test))"
      ],
      "execution_count": 43,
      "outputs": [
        {
          "output_type": "stream",
          "text": [
            "Epoch 1/25\n",
            "11250/11250 [==============================] - 19s 2ms/step - loss: 1.4671 - accuracy: 0.5272 - val_loss: 1.2107 - val_accuracy: 0.6268\n",
            "Epoch 2/25\n",
            "11250/11250 [==============================] - 19s 2ms/step - loss: 1.1460 - accuracy: 0.6274 - val_loss: 1.0994 - val_accuracy: 0.6432\n",
            "Epoch 3/25\n",
            "11250/11250 [==============================] - 19s 2ms/step - loss: 1.1070 - accuracy: 0.6449 - val_loss: 1.0768 - val_accuracy: 0.6547\n",
            "Epoch 4/25\n",
            "11250/11250 [==============================] - 20s 2ms/step - loss: 1.1023 - accuracy: 0.6468 - val_loss: 1.1334 - val_accuracy: 0.6404\n",
            "Epoch 5/25\n",
            "11250/11250 [==============================] - 19s 2ms/step - loss: 1.0720 - accuracy: 0.6530 - val_loss: 1.0445 - val_accuracy: 0.6759\n",
            "Epoch 6/25\n",
            "11250/11250 [==============================] - 19s 2ms/step - loss: 1.0502 - accuracy: 0.6604 - val_loss: 0.9638 - val_accuracy: 0.6948\n",
            "Epoch 7/25\n",
            "11250/11250 [==============================] - 19s 2ms/step - loss: 1.0174 - accuracy: 0.6685 - val_loss: 0.9862 - val_accuracy: 0.6820\n",
            "Epoch 8/25\n",
            "11250/11250 [==============================] - 19s 2ms/step - loss: 0.9935 - accuracy: 0.6823 - val_loss: 0.9834 - val_accuracy: 0.6915\n",
            "Epoch 9/25\n",
            "11250/11250 [==============================] - 19s 2ms/step - loss: 0.9796 - accuracy: 0.6881 - val_loss: 0.9611 - val_accuracy: 0.6926\n",
            "Epoch 10/25\n",
            "11250/11250 [==============================] - 19s 2ms/step - loss: 0.9703 - accuracy: 0.6909 - val_loss: 0.9688 - val_accuracy: 0.6949\n",
            "Epoch 11/25\n",
            "11250/11250 [==============================] - 19s 2ms/step - loss: 0.9667 - accuracy: 0.6877 - val_loss: 0.9548 - val_accuracy: 0.6963\n",
            "Epoch 12/25\n",
            "11250/11250 [==============================] - 19s 2ms/step - loss: 0.9715 - accuracy: 0.6838 - val_loss: 1.0053 - val_accuracy: 0.6698\n",
            "Epoch 13/25\n",
            "11250/11250 [==============================] - 19s 2ms/step - loss: 0.9879 - accuracy: 0.6722 - val_loss: 0.9858 - val_accuracy: 0.6700\n",
            "Epoch 14/25\n",
            "11250/11250 [==============================] - 19s 2ms/step - loss: 0.9725 - accuracy: 0.6817 - val_loss: 0.9682 - val_accuracy: 0.6798\n",
            "Epoch 15/25\n",
            "11250/11250 [==============================] - 19s 2ms/step - loss: 0.9349 - accuracy: 0.6936 - val_loss: 0.9106 - val_accuracy: 0.7031\n",
            "Epoch 16/25\n",
            "11250/11250 [==============================] - 20s 2ms/step - loss: 0.8993 - accuracy: 0.7073 - val_loss: 0.9184 - val_accuracy: 0.6944\n",
            "Epoch 17/25\n",
            "11250/11250 [==============================] - 20s 2ms/step - loss: 0.9064 - accuracy: 0.7055 - val_loss: 0.8921 - val_accuracy: 0.7168\n",
            "Epoch 18/25\n",
            "11250/11250 [==============================] - 20s 2ms/step - loss: 0.8981 - accuracy: 0.7117 - val_loss: 0.8960 - val_accuracy: 0.7133\n",
            "Epoch 19/25\n",
            "11250/11250 [==============================] - 20s 2ms/step - loss: 0.8921 - accuracy: 0.7114 - val_loss: 0.8978 - val_accuracy: 0.7080\n",
            "Epoch 20/25\n",
            "11250/11250 [==============================] - 21s 2ms/step - loss: 0.8780 - accuracy: 0.7167 - val_loss: 0.8709 - val_accuracy: 0.7238\n",
            "Epoch 21/25\n",
            "11250/11250 [==============================] - 20s 2ms/step - loss: 0.8976 - accuracy: 0.7111 - val_loss: 0.9017 - val_accuracy: 0.7146\n",
            "Epoch 22/25\n",
            "11250/11250 [==============================] - 19s 2ms/step - loss: 0.8842 - accuracy: 0.7183 - val_loss: 0.8560 - val_accuracy: 0.7310\n",
            "Epoch 23/25\n",
            "11250/11250 [==============================] - 20s 2ms/step - loss: 0.8791 - accuracy: 0.7203 - val_loss: 0.8679 - val_accuracy: 0.7236\n",
            "Epoch 24/25\n",
            "11250/11250 [==============================] - 19s 2ms/step - loss: 0.8682 - accuracy: 0.7226 - val_loss: 0.8874 - val_accuracy: 0.7197\n",
            "Epoch 25/25\n",
            "11250/11250 [==============================] - 19s 2ms/step - loss: 0.8674 - accuracy: 0.7169 - val_loss: 0.8550 - val_accuracy: 0.7239\n"
          ],
          "name": "stdout"
        }
      ]
    },
    {
      "cell_type": "code",
      "metadata": {
        "id": "i5_v170ZjsJX",
        "colab_type": "code",
        "colab": {
          "base_uri": "https://localhost:8080/",
          "height": 926
        },
        "outputId": "8dfb0e07-deb8-47be-9aac-f98b6f7a73ef"
      },
      "source": [
        "quickdraw_model_16 = create_model()\n",
        "batch_16 = quickdraw_model_16.fit(X_train, y_train, epochs=25, batch_size=16,\n",
        "                                  validation_data=(X_test, y_test))"
      ],
      "execution_count": 44,
      "outputs": [
        {
          "output_type": "stream",
          "text": [
            "Epoch 1/25\n",
            "5625/5625 [==============================] - 10s 2ms/step - loss: 1.5874 - accuracy: 0.5506 - val_loss: 1.2041 - val_accuracy: 0.6369\n",
            "Epoch 2/25\n",
            "5625/5625 [==============================] - 10s 2ms/step - loss: 1.1083 - accuracy: 0.6604 - val_loss: 1.0316 - val_accuracy: 0.6784\n",
            "Epoch 3/25\n",
            "5625/5625 [==============================] - 10s 2ms/step - loss: 1.0108 - accuracy: 0.6832 - val_loss: 0.9887 - val_accuracy: 0.6981\n",
            "Epoch 4/25\n",
            "5625/5625 [==============================] - 10s 2ms/step - loss: 0.9739 - accuracy: 0.6936 - val_loss: 0.9396 - val_accuracy: 0.6974\n",
            "Epoch 5/25\n",
            "5625/5625 [==============================] - 10s 2ms/step - loss: 0.9578 - accuracy: 0.6977 - val_loss: 0.9595 - val_accuracy: 0.6999\n",
            "Epoch 6/25\n",
            "5625/5625 [==============================] - 10s 2ms/step - loss: 0.9398 - accuracy: 0.7000 - val_loss: 0.9524 - val_accuracy: 0.6998\n",
            "Epoch 7/25\n",
            "5625/5625 [==============================] - 10s 2ms/step - loss: 0.9498 - accuracy: 0.6977 - val_loss: 0.9753 - val_accuracy: 0.6856\n",
            "Epoch 8/25\n",
            "5625/5625 [==============================] - 10s 2ms/step - loss: 0.9372 - accuracy: 0.7002 - val_loss: 0.9336 - val_accuracy: 0.6969\n",
            "Epoch 9/25\n",
            "5625/5625 [==============================] - 10s 2ms/step - loss: 0.9309 - accuracy: 0.7048 - val_loss: 0.9214 - val_accuracy: 0.7022\n",
            "Epoch 10/25\n",
            "5625/5625 [==============================] - 10s 2ms/step - loss: 0.9288 - accuracy: 0.7044 - val_loss: 0.9201 - val_accuracy: 0.7123\n",
            "Epoch 11/25\n",
            "5625/5625 [==============================] - 10s 2ms/step - loss: 0.9617 - accuracy: 0.6937 - val_loss: 0.9498 - val_accuracy: 0.7058\n",
            "Epoch 12/25\n",
            "5625/5625 [==============================] - 10s 2ms/step - loss: 0.9137 - accuracy: 0.7094 - val_loss: 0.9129 - val_accuracy: 0.7093\n",
            "Epoch 13/25\n",
            "5625/5625 [==============================] - 10s 2ms/step - loss: 0.8893 - accuracy: 0.7178 - val_loss: 0.8908 - val_accuracy: 0.7179\n",
            "Epoch 14/25\n",
            "5625/5625 [==============================] - 10s 2ms/step - loss: 0.8827 - accuracy: 0.7208 - val_loss: 0.8985 - val_accuracy: 0.7164\n",
            "Epoch 15/25\n",
            "5625/5625 [==============================] - 10s 2ms/step - loss: 0.8805 - accuracy: 0.7216 - val_loss: 0.8475 - val_accuracy: 0.7305\n",
            "Epoch 16/25\n",
            "5625/5625 [==============================] - 10s 2ms/step - loss: 0.8692 - accuracy: 0.7239 - val_loss: 0.8642 - val_accuracy: 0.7274\n",
            "Epoch 17/25\n",
            "5625/5625 [==============================] - 10s 2ms/step - loss: 0.8556 - accuracy: 0.7292 - val_loss: 0.8522 - val_accuracy: 0.7322\n",
            "Epoch 18/25\n",
            "5625/5625 [==============================] - 10s 2ms/step - loss: 0.8521 - accuracy: 0.7314 - val_loss: 0.8783 - val_accuracy: 0.7244\n",
            "Epoch 19/25\n",
            "5625/5625 [==============================] - 10s 2ms/step - loss: 0.8738 - accuracy: 0.7226 - val_loss: 0.8794 - val_accuracy: 0.7275\n",
            "Epoch 20/25\n",
            "5625/5625 [==============================] - 10s 2ms/step - loss: 0.8438 - accuracy: 0.7346 - val_loss: 0.8348 - val_accuracy: 0.7337\n",
            "Epoch 21/25\n",
            "5625/5625 [==============================] - 11s 2ms/step - loss: 0.8297 - accuracy: 0.7371 - val_loss: 0.8313 - val_accuracy: 0.7373\n",
            "Epoch 22/25\n",
            "5625/5625 [==============================] - 10s 2ms/step - loss: 0.8340 - accuracy: 0.7376 - val_loss: 0.8415 - val_accuracy: 0.7336\n",
            "Epoch 23/25\n",
            "5625/5625 [==============================] - 10s 2ms/step - loss: 0.8339 - accuracy: 0.7364 - val_loss: 0.8441 - val_accuracy: 0.7360\n",
            "Epoch 24/25\n",
            "5625/5625 [==============================] - 10s 2ms/step - loss: 0.8366 - accuracy: 0.7328 - val_loss: 0.8424 - val_accuracy: 0.7311\n",
            "Epoch 25/25\n",
            "5625/5625 [==============================] - 9s 2ms/step - loss: 0.8214 - accuracy: 0.7388 - val_loss: 0.8162 - val_accuracy: 0.7453\n"
          ],
          "name": "stdout"
        }
      ]
    },
    {
      "cell_type": "code",
      "metadata": {
        "id": "AOzit7TWjve3",
        "colab_type": "code",
        "colab": {
          "base_uri": "https://localhost:8080/",
          "height": 926
        },
        "outputId": "083502e8-1f7c-48d0-e2f2-9c214c63d8f5"
      },
      "source": [
        "quickdraw_model_64 = create_model()\n",
        "batch_64 = quickdraw_model_64.fit(X_train, y_train, epochs=25, batch_size=64,\n",
        "                                  validation_data=(X_test, y_test))"
      ],
      "execution_count": 45,
      "outputs": [
        {
          "output_type": "stream",
          "text": [
            "Epoch 1/25\n",
            "1407/1407 [==============================] - 3s 2ms/step - loss: 2.0320 - accuracy: 0.4078 - val_loss: 1.7869 - val_accuracy: 0.5026\n",
            "Epoch 2/25\n",
            "1407/1407 [==============================] - 3s 2ms/step - loss: 1.5929 - accuracy: 0.5630 - val_loss: 1.4393 - val_accuracy: 0.5975\n",
            "Epoch 3/25\n",
            "1407/1407 [==============================] - 3s 2ms/step - loss: 1.3379 - accuracy: 0.6203 - val_loss: 1.2582 - val_accuracy: 0.6376\n",
            "Epoch 4/25\n",
            "1407/1407 [==============================] - 3s 2ms/step - loss: 1.1907 - accuracy: 0.6607 - val_loss: 1.1337 - val_accuracy: 0.6748\n",
            "Epoch 5/25\n",
            "1407/1407 [==============================] - 3s 2ms/step - loss: 1.0886 - accuracy: 0.6909 - val_loss: 1.0518 - val_accuracy: 0.6969\n",
            "Epoch 6/25\n",
            "1407/1407 [==============================] - 3s 2ms/step - loss: 1.0183 - accuracy: 0.7045 - val_loss: 0.9878 - val_accuracy: 0.7103\n",
            "Epoch 7/25\n",
            "1407/1407 [==============================] - 3s 2ms/step - loss: 0.9656 - accuracy: 0.7174 - val_loss: 0.9532 - val_accuracy: 0.7163\n",
            "Epoch 8/25\n",
            "1407/1407 [==============================] - 3s 2ms/step - loss: 0.9375 - accuracy: 0.7216 - val_loss: 0.9430 - val_accuracy: 0.7213\n",
            "Epoch 9/25\n",
            "1407/1407 [==============================] - 3s 2ms/step - loss: 0.9089 - accuracy: 0.7317 - val_loss: 0.9032 - val_accuracy: 0.7343\n",
            "Epoch 10/25\n",
            "1407/1407 [==============================] - 3s 2ms/step - loss: 0.8892 - accuracy: 0.7346 - val_loss: 0.8876 - val_accuracy: 0.7342\n",
            "Epoch 11/25\n",
            "1407/1407 [==============================] - 3s 2ms/step - loss: 0.8675 - accuracy: 0.7389 - val_loss: 0.8604 - val_accuracy: 0.7406\n",
            "Epoch 12/25\n",
            "1407/1407 [==============================] - 3s 2ms/step - loss: 0.8599 - accuracy: 0.7411 - val_loss: 0.8824 - val_accuracy: 0.7253\n",
            "Epoch 13/25\n",
            "1407/1407 [==============================] - 3s 2ms/step - loss: 0.8471 - accuracy: 0.7446 - val_loss: 0.8586 - val_accuracy: 0.7423\n",
            "Epoch 14/25\n",
            "1407/1407 [==============================] - 3s 2ms/step - loss: 0.8401 - accuracy: 0.7443 - val_loss: 0.8418 - val_accuracy: 0.7486\n",
            "Epoch 15/25\n",
            "1407/1407 [==============================] - 3s 2ms/step - loss: 0.8277 - accuracy: 0.7471 - val_loss: 0.8302 - val_accuracy: 0.7487\n",
            "Epoch 16/25\n",
            "1407/1407 [==============================] - 3s 2ms/step - loss: 0.8175 - accuracy: 0.7495 - val_loss: 0.8163 - val_accuracy: 0.7509\n",
            "Epoch 17/25\n",
            "1407/1407 [==============================] - 3s 2ms/step - loss: 0.8120 - accuracy: 0.7530 - val_loss: 0.8201 - val_accuracy: 0.7503\n",
            "Epoch 18/25\n",
            "1407/1407 [==============================] - 3s 2ms/step - loss: 0.7997 - accuracy: 0.7568 - val_loss: 0.8000 - val_accuracy: 0.7534\n",
            "Epoch 19/25\n",
            "1407/1407 [==============================] - 3s 2ms/step - loss: 0.7980 - accuracy: 0.7541 - val_loss: 0.8101 - val_accuracy: 0.7526\n",
            "Epoch 20/25\n",
            "1407/1407 [==============================] - 3s 2ms/step - loss: 0.7922 - accuracy: 0.7580 - val_loss: 0.7952 - val_accuracy: 0.7584\n",
            "Epoch 21/25\n",
            "1407/1407 [==============================] - 3s 2ms/step - loss: 0.7854 - accuracy: 0.7606 - val_loss: 0.8138 - val_accuracy: 0.7472\n",
            "Epoch 22/25\n",
            "1407/1407 [==============================] - 3s 2ms/step - loss: 0.7818 - accuracy: 0.7613 - val_loss: 0.8039 - val_accuracy: 0.7532\n",
            "Epoch 23/25\n",
            "1407/1407 [==============================] - 3s 2ms/step - loss: 0.7720 - accuracy: 0.7644 - val_loss: 0.7958 - val_accuracy: 0.7547\n",
            "Epoch 24/25\n",
            "1407/1407 [==============================] - 3s 2ms/step - loss: 0.7666 - accuracy: 0.7651 - val_loss: 0.7853 - val_accuracy: 0.7620\n",
            "Epoch 25/25\n",
            "1407/1407 [==============================] - 3s 2ms/step - loss: 0.7696 - accuracy: 0.7659 - val_loss: 0.7910 - val_accuracy: 0.7569\n"
          ],
          "name": "stdout"
        }
      ]
    },
    {
      "cell_type": "code",
      "metadata": {
        "id": "S1KGcV7bj0og",
        "colab_type": "code",
        "colab": {
          "base_uri": "https://localhost:8080/",
          "height": 926
        },
        "outputId": "0468d57e-0821-4585-b263-45c70a7212a0"
      },
      "source": [
        "quickdraw_model_128 = create_model()\n",
        "batch_128 = quickdraw_model_128.fit(X_train, y_train, epochs=25, batch_size=128,\n",
        "                                  validation_data=(X_test, y_test))"
      ],
      "execution_count": 46,
      "outputs": [
        {
          "output_type": "stream",
          "text": [
            "Epoch 1/25\n",
            "704/704 [==============================] - 2s 2ms/step - loss: 2.1862 - accuracy: 0.3242 - val_loss: 2.0392 - val_accuracy: 0.4602\n",
            "Epoch 2/25\n",
            "704/704 [==============================] - 1s 2ms/step - loss: 1.9094 - accuracy: 0.5098 - val_loss: 1.7761 - val_accuracy: 0.5479\n",
            "Epoch 3/25\n",
            "704/704 [==============================] - 1s 2ms/step - loss: 1.6595 - accuracy: 0.5688 - val_loss: 1.5574 - val_accuracy: 0.5893\n",
            "Epoch 4/25\n",
            "704/704 [==============================] - 1s 2ms/step - loss: 1.4699 - accuracy: 0.6094 - val_loss: 1.3996 - val_accuracy: 0.6158\n",
            "Epoch 5/25\n",
            "704/704 [==============================] - 1s 2ms/step - loss: 1.3349 - accuracy: 0.6415 - val_loss: 1.2893 - val_accuracy: 0.6513\n",
            "Epoch 6/25\n",
            "704/704 [==============================] - 1s 2ms/step - loss: 1.2368 - accuracy: 0.6612 - val_loss: 1.1996 - val_accuracy: 0.6709\n",
            "Epoch 7/25\n",
            "704/704 [==============================] - 1s 2ms/step - loss: 1.1603 - accuracy: 0.6762 - val_loss: 1.1342 - val_accuracy: 0.6781\n",
            "Epoch 8/25\n",
            "704/704 [==============================] - 1s 2ms/step - loss: 1.1000 - accuracy: 0.6898 - val_loss: 1.0765 - val_accuracy: 0.6908\n",
            "Epoch 9/25\n",
            "704/704 [==============================] - 1s 2ms/step - loss: 1.0550 - accuracy: 0.6978 - val_loss: 1.0389 - val_accuracy: 0.6996\n",
            "Epoch 10/25\n",
            "704/704 [==============================] - 1s 2ms/step - loss: 1.0153 - accuracy: 0.7074 - val_loss: 1.0018 - val_accuracy: 0.7075\n",
            "Epoch 11/25\n",
            "704/704 [==============================] - 1s 2ms/step - loss: 0.9863 - accuracy: 0.7122 - val_loss: 0.9862 - val_accuracy: 0.7121\n",
            "Epoch 12/25\n",
            "704/704 [==============================] - 1s 2ms/step - loss: 0.9609 - accuracy: 0.7204 - val_loss: 0.9591 - val_accuracy: 0.7177\n",
            "Epoch 13/25\n",
            "704/704 [==============================] - 1s 2ms/step - loss: 0.9328 - accuracy: 0.7270 - val_loss: 0.9348 - val_accuracy: 0.7256\n",
            "Epoch 14/25\n",
            "704/704 [==============================] - 1s 2ms/step - loss: 0.9158 - accuracy: 0.7302 - val_loss: 0.9182 - val_accuracy: 0.7300\n",
            "Epoch 15/25\n",
            "704/704 [==============================] - 1s 2ms/step - loss: 0.8978 - accuracy: 0.7357 - val_loss: 0.9087 - val_accuracy: 0.7301\n",
            "Epoch 16/25\n",
            "704/704 [==============================] - 1s 2ms/step - loss: 0.8836 - accuracy: 0.7396 - val_loss: 0.8969 - val_accuracy: 0.7329\n",
            "Epoch 17/25\n",
            "704/704 [==============================] - 1s 2ms/step - loss: 0.8698 - accuracy: 0.7416 - val_loss: 0.8757 - val_accuracy: 0.7361\n",
            "Epoch 18/25\n",
            "704/704 [==============================] - 1s 2ms/step - loss: 0.8591 - accuracy: 0.7430 - val_loss: 0.8684 - val_accuracy: 0.7406\n",
            "Epoch 19/25\n",
            "704/704 [==============================] - 1s 2ms/step - loss: 0.8515 - accuracy: 0.7437 - val_loss: 0.8514 - val_accuracy: 0.7457\n",
            "Epoch 20/25\n",
            "704/704 [==============================] - 1s 2ms/step - loss: 0.8384 - accuracy: 0.7486 - val_loss: 0.8439 - val_accuracy: 0.7462\n",
            "Epoch 21/25\n",
            "704/704 [==============================] - 1s 2ms/step - loss: 0.8280 - accuracy: 0.7492 - val_loss: 0.8280 - val_accuracy: 0.7535\n",
            "Epoch 22/25\n",
            "704/704 [==============================] - 2s 2ms/step - loss: 0.8186 - accuracy: 0.7546 - val_loss: 0.8301 - val_accuracy: 0.7485\n",
            "Epoch 23/25\n",
            "704/704 [==============================] - 1s 2ms/step - loss: 0.8131 - accuracy: 0.7547 - val_loss: 0.8228 - val_accuracy: 0.7524\n",
            "Epoch 24/25\n",
            "704/704 [==============================] - 1s 2ms/step - loss: 0.8038 - accuracy: 0.7585 - val_loss: 0.8232 - val_accuracy: 0.7488\n",
            "Epoch 25/25\n",
            "704/704 [==============================] - 1s 2ms/step - loss: 0.7990 - accuracy: 0.7584 - val_loss: 0.8160 - val_accuracy: 0.7496\n"
          ],
          "name": "stdout"
        }
      ]
    },
    {
      "cell_type": "code",
      "metadata": {
        "id": "mfQdfxNUkIzX",
        "colab_type": "code",
        "colab": {
          "base_uri": "https://localhost:8080/",
          "height": 198
        },
        "outputId": "69d3600e-25ec-4a4b-a8d9-19ae22927b57"
      },
      "source": [
        "batch_sizes = []\n",
        "\n",
        "for exp, result in zip([batch_32, batch_8, batch_16, batch_64, batch_128],\n",
        "                       [\"32_\", \"8_\", \"16_\", \"64_\", \"128_\"]):\n",
        "\n",
        "  df = pd.DataFrame.from_dict(exp.history)\n",
        "  df['epoch'] = df.index.values\n",
        "  df['Batch Size'] = result\n",
        "\n",
        "  batch_sizes.append(df)\n",
        "\n",
        "df = pd.concat(batch_sizes)\n",
        "df['Batch Size'] = df['Batch Size'].astype('str')\n",
        "df.head()"
      ],
      "execution_count": 47,
      "outputs": [
        {
          "output_type": "execute_result",
          "data": {
            "text/html": [
              "<div>\n",
              "<style scoped>\n",
              "    .dataframe tbody tr th:only-of-type {\n",
              "        vertical-align: middle;\n",
              "    }\n",
              "\n",
              "    .dataframe tbody tr th {\n",
              "        vertical-align: top;\n",
              "    }\n",
              "\n",
              "    .dataframe thead th {\n",
              "        text-align: right;\n",
              "    }\n",
              "</style>\n",
              "<table border=\"1\" class=\"dataframe\">\n",
              "  <thead>\n",
              "    <tr style=\"text-align: right;\">\n",
              "      <th></th>\n",
              "      <th>loss</th>\n",
              "      <th>accuracy</th>\n",
              "      <th>val_loss</th>\n",
              "      <th>val_accuracy</th>\n",
              "      <th>epoch</th>\n",
              "      <th>Batch Size</th>\n",
              "    </tr>\n",
              "  </thead>\n",
              "  <tbody>\n",
              "    <tr>\n",
              "      <th>0</th>\n",
              "      <td>1.847414</td>\n",
              "      <td>0.473611</td>\n",
              "      <td>1.477899</td>\n",
              "      <td>0.5677</td>\n",
              "      <td>0</td>\n",
              "      <td>32_</td>\n",
              "    </tr>\n",
              "    <tr>\n",
              "      <th>1</th>\n",
              "      <td>1.292367</td>\n",
              "      <td>0.622422</td>\n",
              "      <td>1.171995</td>\n",
              "      <td>0.6515</td>\n",
              "      <td>1</td>\n",
              "      <td>32_</td>\n",
              "    </tr>\n",
              "    <tr>\n",
              "      <th>2</th>\n",
              "      <td>1.105457</td>\n",
              "      <td>0.668056</td>\n",
              "      <td>1.058512</td>\n",
              "      <td>0.6686</td>\n",
              "      <td>2</td>\n",
              "      <td>32_</td>\n",
              "    </tr>\n",
              "    <tr>\n",
              "      <th>3</th>\n",
              "      <td>1.025177</td>\n",
              "      <td>0.685200</td>\n",
              "      <td>0.988721</td>\n",
              "      <td>0.6931</td>\n",
              "      <td>3</td>\n",
              "      <td>32_</td>\n",
              "    </tr>\n",
              "    <tr>\n",
              "      <th>4</th>\n",
              "      <td>0.986124</td>\n",
              "      <td>0.694244</td>\n",
              "      <td>0.965045</td>\n",
              "      <td>0.6968</td>\n",
              "      <td>4</td>\n",
              "      <td>32_</td>\n",
              "    </tr>\n",
              "  </tbody>\n",
              "</table>\n",
              "</div>"
            ],
            "text/plain": [
              "       loss  accuracy  val_loss  val_accuracy  epoch Batch Size\n",
              "0  1.847414  0.473611  1.477899        0.5677      0        32_\n",
              "1  1.292367  0.622422  1.171995        0.6515      1        32_\n",
              "2  1.105457  0.668056  1.058512        0.6686      2        32_\n",
              "3  1.025177  0.685200  0.988721        0.6931      3        32_\n",
              "4  0.986124  0.694244  0.965045        0.6968      4        32_"
            ]
          },
          "metadata": {
            "tags": []
          },
          "execution_count": 47
        }
      ]
    },
    {
      "cell_type": "code",
      "metadata": {
        "id": "YwxPTLpNkix0",
        "colab_type": "code",
        "colab": {
          "base_uri": "https://localhost:8080/",
          "height": 279
        },
        "outputId": "734c39ac-79c5-4968-91c5-ce33500e7f49"
      },
      "source": [
        "sns.lineplot(x='epoch', y='val_accuracy', hue='Batch Size', data=df);"
      ],
      "execution_count": 48,
      "outputs": [
        {
          "output_type": "display_data",
          "data": {
            "image/png": "[encoded data removed]",
            "text/plain": [
              "<Figure size 432x288 with 1 Axes>"
            ]
          },
          "metadata": {
            "tags": [],
            "needs_background": "light"
          }
        }
      ]
    },
    {
      "cell_type": "code",
      "metadata": {
        "id": "vJ1nQReEklmZ",
        "colab_type": "code",
        "colab": {
          "base_uri": "https://localhost:8080/",
          "height": 279
        },
        "outputId": "eb4da3ff-f228-473f-e87d-d1801941ae83"
      },
      "source": [
        "sns.lineplot(x='epoch', y='val_loss', hue='Batch Size', data=df);"
      ],
      "execution_count": 49,
      "outputs": [
        {
          "output_type": "display_data",
          "data": {
            "image/png": "[encoded data removed]",
            "text/plain": [
              "<Figure size 432x288 with 1 Axes>"
            ]
          },
          "metadata": {
            "tags": [],
            "needs_background": "light"
          }
        }
      ]
    },
    {
      "cell_type": "markdown",
      "metadata": {
        "colab_type": "text",
        "id": "8b-r70o8p2Dm"
      },
      "source": [
        "### Experiment with Learning Rate\n",
        "* Run 5 experiments with various learning rate magnitudes: 1, .1, .01, .001, .0001.\n",
        "* Use the \"best\" batch size from the previous experiment\n",
        "* Visualize the results\n",
        "* Write up an analysis of the experiments and select the \"best\" performing model among your experiments. Make sure to compare against the previous experiments and your model's performance yesterday. "
      ]
    },
    {
      "cell_type": "code",
      "metadata": {
        "id": "_SA144xx8Luf",
        "colab_type": "code",
        "colab": {
          "base_uri": "https://localhost:8080/",
          "height": 381
        },
        "outputId": "bc06a973-a022-49e0-e564-c783175ffda1"
      },
      "source": [
        "lr_default = create_model().fit(X_train, y_train,\n",
        "                                epochs=10,\n",
        "                                validation_data=(X_test,y_test)\n",
        ")"
      ],
      "execution_count": 50,
      "outputs": [
        {
          "output_type": "stream",
          "text": [
            "Epoch 1/10\n",
            "2813/2813 [==============================] - 6s 2ms/step - loss: 1.8228 - accuracy: 0.4714 - val_loss: 1.4396 - val_accuracy: 0.5834\n",
            "Epoch 2/10\n",
            "2813/2813 [==============================] - 5s 2ms/step - loss: 1.2704 - accuracy: 0.6363 - val_loss: 1.1517 - val_accuracy: 0.6693\n",
            "Epoch 3/10\n",
            "2813/2813 [==============================] - 5s 2ms/step - loss: 1.0925 - accuracy: 0.6791 - val_loss: 1.0296 - val_accuracy: 0.6931\n",
            "Epoch 4/10\n",
            "2813/2813 [==============================] - 5s 2ms/step - loss: 1.0093 - accuracy: 0.6994 - val_loss: 0.9965 - val_accuracy: 0.6948\n",
            "Epoch 5/10\n",
            "2813/2813 [==============================] - 6s 2ms/step - loss: 0.9616 - accuracy: 0.7066 - val_loss: 0.9398 - val_accuracy: 0.7139\n",
            "Epoch 6/10\n",
            "2813/2813 [==============================] - 5s 2ms/step - loss: 0.9354 - accuracy: 0.7133 - val_loss: 0.9341 - val_accuracy: 0.7157\n",
            "Epoch 7/10\n",
            "2813/2813 [==============================] - 5s 2ms/step - loss: 0.9116 - accuracy: 0.7199 - val_loss: 0.9265 - val_accuracy: 0.7088\n",
            "Epoch 8/10\n",
            "2813/2813 [==============================] - 5s 2ms/step - loss: 0.8947 - accuracy: 0.7259 - val_loss: 0.9023 - val_accuracy: 0.7190\n",
            "Epoch 9/10\n",
            "2813/2813 [==============================] - 5s 2ms/step - loss: 0.8824 - accuracy: 0.7263 - val_loss: 0.8576 - val_accuracy: 0.7371\n",
            "Epoch 10/10\n",
            "2813/2813 [==============================] - 5s 2ms/step - loss: 0.8659 - accuracy: 0.7361 - val_loss: 0.8777 - val_accuracy: 0.7261\n"
          ],
          "name": "stdout"
        }
      ]
    },
    {
      "cell_type": "code",
      "metadata": {
        "id": "bKWsmkfhv4zr",
        "colab_type": "code",
        "colab": {
          "base_uri": "https://localhost:8080/",
          "height": 381
        },
        "outputId": "beeb55de-f9bc-47b8-f3cd-4acc9a574228"
      },
      "source": [
        "lr_high = create_model(lr=.1).fit(X_train, y_train,\n",
        "                                epochs=10,\n",
        "                                validation_data=(X_test,y_test)\n",
        ")"
      ],
      "execution_count": 51,
      "outputs": [
        {
          "output_type": "stream",
          "text": [
            "Epoch 1/10\n",
            "2813/2813 [==============================] - 6s 2ms/step - loss: 1.5164 - accuracy: 0.4819 - val_loss: 1.3627 - val_accuracy: 0.5356\n",
            "Epoch 2/10\n",
            "2813/2813 [==============================] - 5s 2ms/step - loss: 1.3699 - accuracy: 0.5252 - val_loss: 1.3375 - val_accuracy: 0.5469\n",
            "Epoch 3/10\n",
            "2813/2813 [==============================] - 5s 2ms/step - loss: 1.3294 - accuracy: 0.5441 - val_loss: 1.3550 - val_accuracy: 0.4898\n",
            "Epoch 4/10\n",
            "2813/2813 [==============================] - 6s 2ms/step - loss: 1.2742 - accuracy: 0.5532 - val_loss: 1.2759 - val_accuracy: 0.5563\n",
            "Epoch 5/10\n",
            "2813/2813 [==============================] - 6s 2ms/step - loss: 1.2053 - accuracy: 0.5947 - val_loss: 1.1981 - val_accuracy: 0.5807\n",
            "Epoch 6/10\n",
            "2813/2813 [==============================] - 5s 2ms/step - loss: 1.1880 - accuracy: 0.5963 - val_loss: 1.2390 - val_accuracy: 0.5813\n",
            "Epoch 7/10\n",
            "2813/2813 [==============================] - 5s 2ms/step - loss: 1.1525 - accuracy: 0.6124 - val_loss: 1.1447 - val_accuracy: 0.6117\n",
            "Epoch 8/10\n",
            "2813/2813 [==============================] - 5s 2ms/step - loss: 1.1806 - accuracy: 0.6093 - val_loss: 1.1548 - val_accuracy: 0.6287\n",
            "Epoch 9/10\n",
            "2813/2813 [==============================] - 5s 2ms/step - loss: 1.1943 - accuracy: 0.6004 - val_loss: 1.2053 - val_accuracy: 0.6029\n",
            "Epoch 10/10\n",
            "2813/2813 [==============================] - 5s 2ms/step - loss: 1.2112 - accuracy: 0.5918 - val_loss: 1.2359 - val_accuracy: 0.5732\n"
          ],
          "name": "stdout"
        }
      ]
    },
    {
      "cell_type": "code",
      "metadata": {
        "id": "pnXm0gDzwDah",
        "colab_type": "code",
        "colab": {
          "base_uri": "https://localhost:8080/",
          "height": 381
        },
        "outputId": "3f21779d-7136-4032-95fe-5824e44cc5cd"
      },
      "source": [
        "lr_extra_high = create_model(lr=1.0).fit(X_train, y_train,\n",
        "                                epochs=10,\n",
        "                                validation_data=(X_test,y_test)\n",
        ")"
      ],
      "execution_count": 52,
      "outputs": [
        {
          "output_type": "stream",
          "text": [
            "Epoch 1/10\n",
            "2813/2813 [==============================] - 5s 2ms/step - loss: 1.9957 - accuracy: 0.2378 - val_loss: 1.9596 - val_accuracy: 0.2922\n",
            "Epoch 2/10\n",
            "2813/2813 [==============================] - 6s 2ms/step - loss: 1.8668 - accuracy: 0.3014 - val_loss: 1.9276 - val_accuracy: 0.3170\n",
            "Epoch 3/10\n",
            "2813/2813 [==============================] - 6s 2ms/step - loss: 1.9933 - accuracy: 0.2637 - val_loss: 1.9491 - val_accuracy: 0.2907\n",
            "Epoch 4/10\n",
            "2813/2813 [==============================] - 5s 2ms/step - loss: 1.9782 - accuracy: 0.2557 - val_loss: 1.8716 - val_accuracy: 0.3180\n",
            "Epoch 5/10\n",
            "2813/2813 [==============================] - 5s 2ms/step - loss: 1.9341 - accuracy: 0.2806 - val_loss: 1.9046 - val_accuracy: 0.2813\n",
            "Epoch 6/10\n",
            "2813/2813 [==============================] - 5s 2ms/step - loss: 1.9190 - accuracy: 0.2774 - val_loss: 1.9407 - val_accuracy: 0.2329\n",
            "Epoch 7/10\n",
            "2813/2813 [==============================] - 5s 2ms/step - loss: 1.9349 - accuracy: 0.2419 - val_loss: 1.9367 - val_accuracy: 0.2404\n",
            "Epoch 8/10\n",
            "2813/2813 [==============================] - 6s 2ms/step - loss: 1.9514 - accuracy: 0.2372 - val_loss: 1.9910 - val_accuracy: 0.2532\n",
            "Epoch 9/10\n",
            "2813/2813 [==============================] - 6s 2ms/step - loss: 1.9204 - accuracy: 0.2723 - val_loss: 1.8969 - val_accuracy: 0.2838\n",
            "Epoch 10/10\n",
            "2813/2813 [==============================] - 6s 2ms/step - loss: 1.8754 - accuracy: 0.2794 - val_loss: 1.8973 - val_accuracy: 0.2647\n"
          ],
          "name": "stdout"
        }
      ]
    },
    {
      "cell_type": "code",
      "metadata": {
        "id": "xLpync6MwH8I",
        "colab_type": "code",
        "colab": {
          "base_uri": "https://localhost:8080/",
          "height": 381
        },
        "outputId": "16854f9b-fab7-47e2-e8d8-215d57dcf3c4"
      },
      "source": [
        "lr_low = create_model(lr=.001).fit(X_train, y_train,\n",
        "                                epochs=10,\n",
        "                                validation_data=(X_test,y_test)\n",
        ")"
      ],
      "execution_count": 53,
      "outputs": [
        {
          "output_type": "stream",
          "text": [
            "Epoch 1/10\n",
            "2813/2813 [==============================] - 6s 2ms/step - loss: 2.2738 - accuracy: 0.2116 - val_loss: 2.2032 - val_accuracy: 0.3242\n",
            "Epoch 2/10\n",
            "2813/2813 [==============================] - 5s 2ms/step - loss: 2.1571 - accuracy: 0.3782 - val_loss: 2.1125 - val_accuracy: 0.4115\n",
            "Epoch 3/10\n",
            "2813/2813 [==============================] - 5s 2ms/step - loss: 2.0648 - accuracy: 0.4414 - val_loss: 2.0177 - val_accuracy: 0.4583\n",
            "Epoch 4/10\n",
            "2813/2813 [==============================] - 5s 2ms/step - loss: 1.9667 - accuracy: 0.4745 - val_loss: 1.9179 - val_accuracy: 0.4922\n",
            "Epoch 5/10\n",
            "2813/2813 [==============================] - 6s 2ms/step - loss: 1.8652 - accuracy: 0.5004 - val_loss: 1.8176 - val_accuracy: 0.5121\n",
            "Epoch 6/10\n",
            "2813/2813 [==============================] - 5s 2ms/step - loss: 1.7658 - accuracy: 0.5213 - val_loss: 1.7214 - val_accuracy: 0.5299\n",
            "Epoch 7/10\n",
            "2813/2813 [==============================] - 5s 2ms/step - loss: 1.6741 - accuracy: 0.5375 - val_loss: 1.6350 - val_accuracy: 0.5419\n",
            "Epoch 8/10\n",
            "2813/2813 [==============================] - 5s 2ms/step - loss: 1.5921 - accuracy: 0.5523 - val_loss: 1.5586 - val_accuracy: 0.5668\n",
            "Epoch 9/10\n",
            "2813/2813 [==============================] - 6s 2ms/step - loss: 1.5203 - accuracy: 0.5699 - val_loss: 1.4907 - val_accuracy: 0.5758\n",
            "Epoch 10/10\n",
            "2813/2813 [==============================] - 5s 2ms/step - loss: 1.4575 - accuracy: 0.5836 - val_loss: 1.4340 - val_accuracy: 0.5920\n"
          ],
          "name": "stdout"
        }
      ]
    },
    {
      "cell_type": "code",
      "metadata": {
        "id": "adkDT9KMwMdI",
        "colab_type": "code",
        "colab": {
          "base_uri": "https://localhost:8080/",
          "height": 381
        },
        "outputId": "dd48fc4e-2f54-4a60-8a57-70de3d788d2d"
      },
      "source": [
        "lr_extra_low = create_model(lr=.0001).fit(X_train, y_train,\n",
        "                                epochs=10,\n",
        "                                validation_data=(X_test,y_test)\n",
        ")"
      ],
      "execution_count": 54,
      "outputs": [
        {
          "output_type": "stream",
          "text": [
            "Epoch 1/10\n",
            "2813/2813 [==============================] - 6s 2ms/step - loss: 2.4215 - accuracy: 0.1043 - val_loss: 2.3780 - val_accuracy: 0.1039\n",
            "Epoch 2/10\n",
            "2813/2813 [==============================] - 5s 2ms/step - loss: 2.3465 - accuracy: 0.1134 - val_loss: 2.3204 - val_accuracy: 0.1188\n",
            "Epoch 3/10\n",
            "2813/2813 [==============================] - 6s 2ms/step - loss: 2.3009 - accuracy: 0.1322 - val_loss: 2.2835 - val_accuracy: 0.1455\n",
            "Epoch 4/10\n",
            "2813/2813 [==============================] - 5s 2ms/step - loss: 2.2708 - accuracy: 0.1602 - val_loss: 2.2583 - val_accuracy: 0.1812\n",
            "Epoch 5/10\n",
            "2813/2813 [==============================] - 6s 2ms/step - loss: 2.2492 - accuracy: 0.1900 - val_loss: 2.2392 - val_accuracy: 0.2091\n",
            "Epoch 6/10\n",
            "2813/2813 [==============================] - 6s 2ms/step - loss: 2.2316 - accuracy: 0.2197 - val_loss: 2.2236 - val_accuracy: 0.2362\n",
            "Epoch 7/10\n",
            "2813/2813 [==============================] - 5s 2ms/step - loss: 2.2171 - accuracy: 0.2451 - val_loss: 2.2097 - val_accuracy: 0.2662\n",
            "Epoch 8/10\n",
            "2813/2813 [==============================] - 5s 2ms/step - loss: 2.2041 - accuracy: 0.2738 - val_loss: 2.1973 - val_accuracy: 0.2979\n",
            "Epoch 9/10\n",
            "2813/2813 [==============================] - 5s 2ms/step - loss: 2.1921 - accuracy: 0.3023 - val_loss: 2.1852 - val_accuracy: 0.3262\n",
            "Epoch 10/10\n",
            "2813/2813 [==============================] - 5s 2ms/step - loss: 2.1801 - accuracy: 0.3300 - val_loss: 2.1731 - val_accuracy: 0.3535\n"
          ],
          "name": "stdout"
        }
      ]
    },
    {
      "cell_type": "code",
      "metadata": {
        "id": "CmSUmwtQwQyA",
        "colab_type": "code",
        "colab": {
          "base_uri": "https://localhost:8080/",
          "height": 198
        },
        "outputId": "a5ff9d8e-4410-46be-867e-af0049808eb2"
      },
      "source": [
        "batch_sizes = []\n",
        "\n",
        "for exp, result in zip([lr_default, lr_high, lr_extra_high, lr_low,\n",
        "                        lr_extra_low], [\".01_\", \".1_\", \"1.0_\", \".001_\",\n",
        "                                        \".0001_\"]):\n",
        "\n",
        "  df = pd.DataFrame.from_dict(exp.history)\n",
        "  df['epoch'] = df.index.values\n",
        "  df['Learning Rate'] = result\n",
        "\n",
        "  batch_sizes.append(df)\n",
        "\n",
        "df = pd.concat(batch_sizes)\n",
        "df['Learning Rate'] = df['Learning Rate'].astype('str')\n",
        "df.head()"
      ],
      "execution_count": 55,
      "outputs": [
        {
          "output_type": "execute_result",
          "data": {
            "text/html": [
              "<div>\n",
              "<style scoped>\n",
              "    .dataframe tbody tr th:only-of-type {\n",
              "        vertical-align: middle;\n",
              "    }\n",
              "\n",
              "    .dataframe tbody tr th {\n",
              "        vertical-align: top;\n",
              "    }\n",
              "\n",
              "    .dataframe thead th {\n",
              "        text-align: right;\n",
              "    }\n",
              "</style>\n",
              "<table border=\"1\" class=\"dataframe\">\n",
              "  <thead>\n",
              "    <tr style=\"text-align: right;\">\n",
              "      <th></th>\n",
              "      <th>loss</th>\n",
              "      <th>accuracy</th>\n",
              "      <th>val_loss</th>\n",
              "      <th>val_accuracy</th>\n",
              "      <th>epoch</th>\n",
              "      <th>Learning Rate</th>\n",
              "    </tr>\n",
              "  </thead>\n",
              "  <tbody>\n",
              "    <tr>\n",
              "      <th>0</th>\n",
              "      <td>1.822776</td>\n",
              "      <td>0.471356</td>\n",
              "      <td>1.439595</td>\n",
              "      <td>0.5834</td>\n",
              "      <td>0</td>\n",
              "      <td>.01_</td>\n",
              "    </tr>\n",
              "    <tr>\n",
              "      <th>1</th>\n",
              "      <td>1.270380</td>\n",
              "      <td>0.636267</td>\n",
              "      <td>1.151708</td>\n",
              "      <td>0.6693</td>\n",
              "      <td>1</td>\n",
              "      <td>.01_</td>\n",
              "    </tr>\n",
              "    <tr>\n",
              "      <th>2</th>\n",
              "      <td>1.092501</td>\n",
              "      <td>0.679067</td>\n",
              "      <td>1.029592</td>\n",
              "      <td>0.6931</td>\n",
              "      <td>2</td>\n",
              "      <td>.01_</td>\n",
              "    </tr>\n",
              "    <tr>\n",
              "      <th>3</th>\n",
              "      <td>1.009328</td>\n",
              "      <td>0.699389</td>\n",
              "      <td>0.996484</td>\n",
              "      <td>0.6948</td>\n",
              "      <td>3</td>\n",
              "      <td>.01_</td>\n",
              "    </tr>\n",
              "    <tr>\n",
              "      <th>4</th>\n",
              "      <td>0.961604</td>\n",
              "      <td>0.706567</td>\n",
              "      <td>0.939824</td>\n",
              "      <td>0.7139</td>\n",
              "      <td>4</td>\n",
              "      <td>.01_</td>\n",
              "    </tr>\n",
              "  </tbody>\n",
              "</table>\n",
              "</div>"
            ],
            "text/plain": [
              "       loss  accuracy  val_loss  val_accuracy  epoch Learning Rate\n",
              "0  1.822776  0.471356  1.439595        0.5834      0          .01_\n",
              "1  1.270380  0.636267  1.151708        0.6693      1          .01_\n",
              "2  1.092501  0.679067  1.029592        0.6931      2          .01_\n",
              "3  1.009328  0.699389  0.996484        0.6948      3          .01_\n",
              "4  0.961604  0.706567  0.939824        0.7139      4          .01_"
            ]
          },
          "metadata": {
            "tags": []
          },
          "execution_count": 55
        }
      ]
    },
    {
      "cell_type": "code",
      "metadata": {
        "id": "xy4t0QOzwpO4",
        "colab_type": "code",
        "colab": {
          "base_uri": "https://localhost:8080/",
          "height": 279
        },
        "outputId": "7b4d2cc5-4409-45ed-c1eb-6f7d06f566e4"
      },
      "source": [
        "sns.lineplot(x='epoch', y='val_accuracy', hue='Learning Rate', data=df);"
      ],
      "execution_count": 56,
      "outputs": [
        {
          "output_type": "display_data",
          "data": {
            "image/png": "[encoded data removed]",
            "text/plain": [
              "<Figure size 432x288 with 1 Axes>"
            ]
          },
          "metadata": {
            "tags": [],
            "needs_background": "light"
          }
        }
      ]
    },
    {
      "cell_type": "code",
      "metadata": {
        "id": "m6y6PNT8wrDn",
        "colab_type": "code",
        "colab": {
          "base_uri": "https://localhost:8080/",
          "height": 279
        },
        "outputId": "e50cef62-1929-4add-ac56-ea929c9048e3"
      },
      "source": [
        "sns.lineplot(x='epoch', y='val_loss', hue='Learning Rate', data=df);"
      ],
      "execution_count": 57,
      "outputs": [
        {
          "output_type": "display_data",
          "data": {
            "image/png": "[encoded data removed]",
            "text/plain": [
              "<Figure size 432x288 with 1 Axes>"
            ]
          },
          "metadata": {
            "tags": [],
            "needs_background": "light"
          }
        }
      ]
    },
    {
      "cell_type": "markdown",
      "metadata": {
        "id": "gxMtSRhV9Q7I",
        "colab_type": "text"
      },
      "source": [
        "### Experiment with different Optimizers\n",
        "* Run 5 experiments with various optimizers available in TensorFlow. See list [here](https://www.tensorflow.org/api_docs/python/tf/keras/optimizers)\n",
        "* Visualize the results\n",
        "* Write up an analysis of the experiments and select the \"best\" performing model among your experiments. Make sure to compare against the previous experiments and your model's performance yesterday.\n",
        "* Repeat the experiment combining Learning Rate and different optimizers. Does the best performing model change? "
      ]
    },
    {
      "cell_type": "code",
      "metadata": {
        "id": "ujLuzdNA91ip",
        "colab_type": "code",
        "colab": {}
      },
      "source": [
        ""
      ],
      "execution_count": null,
      "outputs": []
    },
    {
      "cell_type": "markdown",
      "metadata": {
        "id": "ydAqeY9S8uHA",
        "colab_type": "text"
      },
      "source": [
        "### Additional Written Tasks\n",
        "\n",
        "1. Describe the process of backpropagation in your own words: \n",
        "```\n",
        "Your answer goes here.\n",
        "```\n",
        "\n"
      ]
    },
    {
      "cell_type": "markdown",
      "metadata": {
        "colab_type": "text",
        "id": "FwlRJSfBlCvy"
      },
      "source": [
        "## Stretch Goals: \n",
        "\n",
        "- Implement GridSearch on anyone of the experiments\n",
        "- On the learning rate experiments, implement [EarlyStopping](https://www.tensorflow.org/api_docs/python/tf/keras/callbacks/EarlyStopping)\n",
        "- Review material on the math behind gradient descent: \n",
        "\n",
        "  - Gradient Descent\n",
        "    - Gradient Descent, Step-by-Step  by StatQuest w/ Josh Starmer. This will help you understand the gradient descent based optimization that happens underneath the hood of neural networks. It uses a non-neural network example, which I believe is a gentler introduction. You will hear me refer to this technique as \"vanilla\" gradient descent. \n",
        "    - Stochastic Gradient Descent, Clearly Explained!!! by StatQuest w/ Josh Starmer. This builds on the techniques in the previous video.  This technique is the one that is actually implemented inside modern 'nets. \n",
        "These are great resources to help you understand tomorrow's material at a deeper level. I highly recommend watching these ahead of tomorrow.\n",
        "\n",
        "  - Background Math\n",
        "    - Dot products and duality by 3Blue1Brown. Explains the core linear algebra operation happening in today's perceptron.\n",
        "The paradox of the derivative by 3Blue1Brown. Does a great job explaining a derivative. \n",
        "    - Visualizing the chain rule and product rule by 3Blue1Brown. Explains the black magic that happens within Stochastic Gradient Descent. \n",
        "These math resources are very much optional. They can be very heady, but I encourage you to explore. Your understanding of neural networks will greatly increase if you understand this math background.\n",
        "\n",
        "\n"
      ]
    }
  ]
}